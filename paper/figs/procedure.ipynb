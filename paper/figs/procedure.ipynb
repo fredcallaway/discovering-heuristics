{
 "cells": [
  {
   "cell_type": "code",
   "execution_count": 1,
   "metadata": {
    "collapsed": true
   },
   "outputs": [],
   "source": [
    "%matplotlib inline\n",
    "\n",
    "import matplotlib.pyplot as plt\n",
    "import numpy as np\n",
    "import pandas as pd\n",
    "import seaborn as sns\n",
    "sns.set_style('white')\n",
    "sns.set_context('notebook', font_scale=1.3)"
   ]
  },
  {
   "cell_type": "code",
   "execution_count": 2,
   "metadata": {
    "collapsed": true
   },
   "outputs": [],
   "source": [
    "import itertools as it\n",
    "from collections import Counter, defaultdict, deque"
   ]
  },
  {
   "cell_type": "code",
   "execution_count": 7,
   "metadata": {
    "collapsed": true
   },
   "outputs": [],
   "source": [
    "def structure():\n",
    "    e, m, h = 4, 0, 0\n",
    "    yield e, m, h\n",
    "    while True:\n",
    "        yield e, m, h\n",
    "        if e:\n",
    "            e -= 1\n",
    "            m += 1\n",
    "        elif m:\n",
    "            m -= 1\n",
    "            h += 1\n",
    "        else:\n",
    "            yield e,m,h\n",
    "            return\n",
    "        \n",
    "        \n",
    "X = np.array(list(structure()))\n",
    "easy, medium, hard = X.T"
   ]
  },
  {
   "cell_type": "code",
   "execution_count": 8,
   "metadata": {
    "collapsed": false
   },
   "outputs": [],
   "source": [
    "def ctrials():\n",
    "    k = 0\n",
    "    for c in [4, 1, 2, 1, 2, 1, 2, 1]:\n",
    "        for _ in range(c):\n",
    "            yield int(k)\n",
    "        k = not k\n",
    "\n"
   ]
  },
  {
   "cell_type": "code",
   "execution_count": 28,
   "metadata": {
    "collapsed": false
   },
   "outputs": [
    {
     "data": {
      "text/plain": [
       "(0.30873075, 0.35504174999999993, 0.46671425000000005)"
      ]
     },
     "execution_count": 28,
     "metadata": {},
     "output_type": "execute_result"
    }
   ],
   "source": [
    "pal[-1]\n",
    "sns.palettes.desaturate"
   ]
  },
  {
   "cell_type": "code",
   "execution_count": 41,
   "metadata": {
    "collapsed": false
   },
   "outputs": [
    {
     "data": {
      "image/png": "[encoded data removed]",
      "text/plain": [
       "<matplotlib.figure.Figure at 0x10b664898>"
      ]
     },
     "metadata": {},
     "output_type": "display_data"
    }
   ],
   "source": [
    "pal = sns.color_palette('YlOrRd', 3, desat=0.8)\n",
    "sns.palplot(pal)"
   ]
  },
  {
   "cell_type": "code",
   "execution_count": 54,
   "metadata": {
    "collapsed": false
   },
   "outputs": [
    {
     "data": {
      "image/png": "[encoded data removed]",
      "text/plain": [
       "<matplotlib.figure.Figure at 0x1105ba2e8>"
      ]
     },
     "metadata": {},
     "output_type": "display_data"
    }
   ],
   "source": [
    "pal = sns.color_palette('YlOrRd', 3, desat=0.7)\n",
    "# pal = sns.color_palette('RdYlGn', 3)[::-1]\n",
    "# pal = sns.color_palette('viridis', 3)[::-1]\n",
    "# pal = sns.color_palette('magma', 3)\n",
    "sns.set_palette(pal)\n",
    "fig, ax = plt.subplots(2)\n",
    "\n",
    "plt.sca(ax[0])\n",
    "# plt.figure(0, (len(X), 2))\n",
    "idx = np.arange(len(X))\n",
    "plt.bar(idx, easy, width=.9, label='easy')\n",
    "plt.bar(idx, medium, bottom=easy, width=.9, label='medium')\n",
    "plt.bar(idx, hard, bottom=easy+medium, width=.9, label='hard')\n",
    "plt.yticks([])\n",
    "plt.xlim(-.45, len(X))\n",
    "plt.xticks([])\n",
    "plt.legend(loc=(1,0), handleheight=3, handlelength=3)\n",
    "ax[0].axis('off')\n",
    "ax[0].text(0, 2, 'instruction',\n",
    "           ha='center',\n",
    "           va='center',\n",
    "           rotation='vertical', size=20, color='white')\n",
    "ax[0].text(10, 2, 'critical',\n",
    "           ha='center',\n",
    "           va='center',\n",
    "           rotation='vertical', size=20, color='white')\n",
    "plt.title('Blocks of experiment')\n",
    "\n",
    "# ----\n",
    "plt.sca(ax[1])\n",
    "\n",
    "label = ['honest', 'deceitful']\n",
    "def mod(c):\n",
    "    return c\n",
    "    return tuple(np.array(c) + .1)\n",
    "color = [pal[-1], mod(pal[-1])]\n",
    "hatch = ['', 'x']\n",
    "prev = 0.5\n",
    "done = set()\n",
    "for k in ctrials():\n",
    "    lab = label[k] if k not in done else ''\n",
    "    done.add(k)\n",
    "    plt.barh(1, 1, left=prev, label=lab, color=color[k], hatch=hatch[k])\n",
    "    prev += 1.1\n",
    "plt.legend(loc=(1,0), handleheight=3, handlelength=3)\n",
    "plt.yticks([])\n",
    "plt.xticks([])\n",
    "plt.gca().axis('off')\n",
    "plt.title('Trials in critical block')\n",
    "# plt.xlabel('trials')\n",
    "# plt.xticks(range(sum(critical)))\n",
    "# plt.gca().axis('off')\n",
    "# plt.tight_layout()\n",
    "plt.savefig('procedure.eps', bbox_inches='tight')\n",
    "# None"
   ]
  },
  {
   "cell_type": "code",
   "execution_count": 51,
   "metadata": {
    "collapsed": true
   },
   "outputs": [],
   "source": [
    "plt.savefig?"
   ]
  },
  {
   "cell_type": "code",
   "execution_count": 168,
   "metadata": {
    "collapsed": false
   },
   "outputs": [
    {
     "data": {
      "text/plain": [
       "<matplotlib.text.Text at 0x10d185cf8>"
      ]
     },
     "execution_count": 168,
     "metadata": {},
     "output_type": "execute_result"
    },
    {
     "data": {
      "image/png": "[encoded data removed]",
      "text/plain": [
       "<matplotlib.figure.Figure at 0x10d33dac8>"
      ]
     },
     "metadata": {},
     "output_type": "display_data"
    }
   ],
   "source": [
    "def ctrials():\n",
    "    k = 0\n",
    "    for c in [4, 1, 2, 1, 2, 1, 2, 1]:\n",
    "        for _ in range(c):\n",
    "            yield int(k)\n",
    "        k = not k\n",
    "\n",
    "plt.figure(0, (len(trials), 2))\n",
    "label = ['honest', 'deceitful']\n",
    "color = '#cc4444'\n",
    "hatch = ['', '/']\n",
    "\n",
    "prev = 0\n",
    "done = set()\n",
    "for k in ctrials():\n",
    "    lab = label[k] if k not in done else ''\n",
    "    done.add(k)\n",
    "    plt.barh(1, 1, left=prev, label=lab, color=color, hatch=hatch[k])\n",
    "    prev += c + .1\n",
    "plt.legend(loc=(1,0), handleheight=3, handlelength=3)\n",
    "plt.yticks([])\n",
    "plt.xticks([])\n",
    "plt.xlabel('trials')\n",
    "# plt.gca().axis('off')\n",
    "# plt.xticks(range(sum(critical)))"
   ]
  },
  {
   "cell_type": "code",
   "execution_count": 143,
   "metadata": {
    "collapsed": false
   },
   "outputs": [
    {
     "data": {
      "text/plain": [
       "(0.0, 16.169999999999998, 0.55999999999999994, 1.4399999999999999)"
      ]
     },
     "execution_count": 143,
     "metadata": {},
     "output_type": "execute_result"
    },
    {
     "data": {
      "image/png": "[encoded data removed]",
      "text/plain": [
       "<matplotlib.figure.Figure at 0x10d22cda0>"
      ]
     },
     "metadata": {},
     "output_type": "display_data"
    }
   ],
   "source": [
    "critical = [4, 1, 2, 1, 2, 1, 2, 1]\n",
    "plt.figure(0, (sum(critical), 2))\n",
    "kind = [0, 1, 0, 1, 0, 1, 0, 1]\n",
    "label = ['honest', 'deceitful']\n",
    "color = '#cc4444'\n",
    "hatch = ['', '/']\n",
    "\n",
    "prev = 0\n",
    "ps = [0]\n",
    "for i in range(len(critical)):\n",
    "    c, k = critical[i], kind[i]\n",
    "    lab = label[k] if i < 2 else ''\n",
    "    plt.barh(1, c, left=prev, label=lab, color=color, hatch=hatch[k])\n",
    "    prev += c + .2\n",
    "    ps.append(prev)\n",
    "plt.legend(loc=(1,0), handleheight=3, handlelength=3)\n",
    "# plt.yticks([])\n",
    "# plt.xticks(ps, ps)\n",
    "plt.gca().axis('off')\n",
    "# plt.xticks(range(sum(critical)))"
   ]
  },
  {
   "cell_type": "code",
   "execution_count": null,
   "metadata": {
    "collapsed": true
   },
   "outputs": [],
   "source": [
    "o\n",
    "\n",
    "\n",
    "\n",
    "\n",
    "\n",
    "\n",
    "\n",
    "\n",
    "\n",
    "\n",
    "\n",
    "\n"
   ]
  }
 ],
 "metadata": {
  "anaconda-cloud": {},
  "kernelspec": {
   "display_name": "Python [default]",
   "language": "python",
   "name": "python3"
  },
  "language_info": {
   "codemirror_mode": {
    "name": "ipython",
    "version": 3
   },
   "file_extension": ".py",
   "mimetype": "text/x-python",
   "name": "python",
   "nbconvert_exporter": "python",
   "pygments_lexer": "ipython3",
   "version": "3.5.2"
  },
  "nav_menu": {},
  "toc": {
   "navigate_menu": true,
   "number_sections": true,
   "sideBar": true,
   "threshold": 6,
   "toc_cell": false,
   "toc_section_display": "block",
   "toc_window_display": false
  }
 },
 "nbformat": 4,
 "nbformat_minor": 0
}
