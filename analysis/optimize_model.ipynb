{
 "cells": [
  {
   "cell_type": "code",
   "execution_count": 49,
   "metadata": {
    "collapsed": true
   },
   "outputs": [],
   "source": [
    "%matplotlib inline"
   ]
  },
  {
   "cell_type": "code",
   "execution_count": 50,
   "metadata": {
    "collapsed": true
   },
   "outputs": [],
   "source": [
    "import numpy as np\n",
    "import scipy\n",
    "from scipy.misc import logsumexp\n",
    "import matplotlib.pyplot as plt\n",
    "import seaborn as sns"
   ]
  },
  {
   "cell_type": "code",
   "execution_count": 77,
   "metadata": {
    "collapsed": false
   },
   "outputs": [
    {
     "name": "stdout",
     "output_type": "stream",
     "text": [
      "EXP3_N_PARTICIPANT = 112\n",
      "EXP3_N_UNFINISHED = 6\n",
      "EXP3_N_CAUGHT = 5\n",
      "EXP3_N_REMAIN = 101\n",
      "EXP3_N_RT_CLIP = 35\n",
      "EXP3_THRESHOLD_RT_CLIP = 12.155521660073683\n",
      "The rpy2.ipython extension is already loaded. To reload it, use:\n",
      "  %reload_ext rpy2.ipython\n"
     ]
    },
    {
     "name": "stderr",
     "output_type": "stream",
     "text": [
      "preprocess.ipynb:45: DeprecationWarning: \n",
      ".ix is deprecated. Please use\n",
      ".loc for label based indexing or\n",
      ".iloc for positional indexing\n",
      "\n",
      "See the documentation here:\n",
      "http://pandas.pydata.org/pandas-docs/stable/indexing.html#deprecate_ix\n",
      "  \"outputs\": [],\n"
     ]
    }
   ],
   "source": [
    "%run preprocess.ipynb"
   ]
  },
  {
   "cell_type": "code",
   "execution_count": 78,
   "metadata": {
    "collapsed": true
   },
   "outputs": [],
   "source": [
    "def logp_bernoulli(x, p):\n",
    "    return np.log((x * p) + ((1 - x) * (1 - p)))"
   ]
  },
  {
   "cell_type": "code",
   "execution_count": 79,
   "metadata": {
    "collapsed": true
   },
   "outputs": [],
   "source": [
    "def change_model(df, p_cue, p_trick, p_sim):\n",
    "    correct = df.correct.as_matrix()\n",
    "    kind = df.kind.as_matrix()\n",
    "    cue = df.cuex.as_matrix()\n",
    "    good_cue = df.good_cue.as_matrix()\n",
    "    trials = df.trialx.as_matrix()\n",
    "    \n",
    "    N = len(correct)\n",
    "    lh_cue = np.empty((N, N))\n",
    "    for switchpoint in range(N):\n",
    "        for j in range(N):\n",
    "            using_cue = cue[j] and (j > switchpoint)\n",
    "            if using_cue:\n",
    "                if good_cue[j]:\n",
    "                    p = p_cue\n",
    "                else:\n",
    "                    p = p_trick\n",
    "            else:\n",
    "                p = p_sim[kind[j]]\n",
    "\n",
    "            lh_cue[switchpoint, j] = logp_bernoulli(correct[j], p)\n",
    "\n",
    "    lh_cue = lh_cue.sum(axis=1)    \n",
    "    best = lh_cue.argmax()\n",
    "    n_best = (lh_cue == lh_cue[best]).sum()\n",
    "    if n_best > 1:\n",
    "        best = np.arange(len(lh_cue))[lh_cue == lh_cue[best]][-1]\n",
    "\n",
    "    return lh_cue[best], trials[best] - trials.min()"
   ]
  },
  {
   "cell_type": "code",
   "execution_count": 80,
   "metadata": {
    "collapsed": true
   },
   "outputs": [],
   "source": [
    "def nochange_model(df, p_sim):\n",
    "    correct = df.correct.as_matrix()\n",
    "    kind = df.kind.as_matrix()\n",
    "    \n",
    "    N = len(correct)\n",
    "    lh_none = np.empty(N)\n",
    "    for j in range(N):\n",
    "        lh_none[j] = logp_bernoulli(correct[j], p_sim[kind[j]])\n",
    "\n",
    "    lh_none = lh_none.sum()\n",
    "    return lh_none"
   ]
  },
  {
   "cell_type": "code",
   "execution_count": 81,
   "metadata": {
    "collapsed": true
   },
   "outputs": [],
   "source": [
    "def BIC(N, k, lh):\n",
    "    return np.log(N) * k - 2 * lh"
   ]
  },
  {
   "cell_type": "code",
   "execution_count": 82,
   "metadata": {
    "collapsed": true
   },
   "outputs": [],
   "source": [
    "def calc_p_sim(df):\n",
    "    a = (df == 1).sum()\n",
    "    b = (df == 0).sum()\n",
    "    return (a + 0.5) / (a + b + 1)"
   ]
  },
  {
   "cell_type": "code",
   "execution_count": 83,
   "metadata": {
    "collapsed": true
   },
   "outputs": [],
   "source": [
    "def max_lh_switch(pidx, df, num_comparisons, p_cue=0.95):\n",
    "    p_trick = 1 - p_cue\n",
    "    p_sim = df.query(\"cuex == False\").groupby(\"kind\")[\"correct\"].apply(calc_p_sim).to_dict()\n",
    "    N = len(df)\n",
    "\n",
    "    lh_cue, best = change_model(df, p_cue, p_trick, p_sim)\n",
    "    lh_none = nochange_model(df, p_sim)\n",
    "    llhr = lh_cue - lh_none\n",
    "    D = 2 * llhr\n",
    "    #p = min(1, (1 - scipy.stats.chi2.cdf(D, 1)) * num_comparisons)\n",
    "    p = 1 - scipy.stats.chi2.cdf(D, 1)\n",
    "    \n",
    "    ret = pd.Series({\n",
    "        \"switch_idx\": best,\n",
    "        \"llh_cue\": lh_cue,\n",
    "        \"llh_none\": lh_none, \n",
    "        \"bic_cue\": BIC(N, 1, lh_cue),\n",
    "        \"bic_none\": BIC(N, 0, lh_none),\n",
    "        \"llhr\": llhr,\n",
    "        \"D\": D,\n",
    "        \"pr_chisq\": p,\n",
    "        \"signif\": pval(p),\n",
    "        \"df\": 1,\n",
    "        \"feedback_cond\": df[\"feedback_cond\"].unique()[0],\n",
    "        \"p_cue\": p_cue,\n",
    "        \"p_trick\": p_trick,\n",
    "    }, name=pidx)\n",
    "    ret.index.name = \"pidx\"\n",
    "    \n",
    "    for kind in p_sim:\n",
    "        ret[\"p_sim_{}\".format(kind)] = p_sim[kind]\n",
    "    \n",
    "    return ret"
   ]
  },
  {
   "cell_type": "code",
   "execution_count": 84,
   "metadata": {
    "collapsed": true
   },
   "outputs": [],
   "source": [
    "def fit_models(df):\n",
    "    pids = df.pidx.unique()\n",
    "    switch = pd.DataFrame([max_lh_switch(p, df.ix[p], len(pids)) for p in pids])\n",
    "    switch['cue_better'] = switch.bic_none > switch.bic_cue\n",
    "    switch['bic_diff'] = switch.bic_none - switch.bic_cue\n",
    "    return switch"
   ]
  },
  {
   "cell_type": "code",
   "execution_count": 85,
   "metadata": {
    "collapsed": false
   },
   "outputs": [
    {
     "name": "stdout",
     "output_type": "stream",
     "text": [
      "EXP3_SWITCH_THRESHOLD = 0.001\n"
     ]
    },
    {
     "name": "stderr",
     "output_type": "stream",
     "text": [
      "/usr/local/lib/miniconda3/lib/python3.5/site-packages/ipykernel/__main__.py:3: DeprecationWarning: \n",
      ".ix is deprecated. Please use\n",
      ".loc for label based indexing or\n",
      ".iloc for positional indexing\n",
      "\n",
      "See the documentation here:\n",
      "http://pandas.pydata.org/pandas-docs/stable/indexing.html#deprecate_ix\n",
      "  app.launch_new_instance()\n"
     ]
    }
   ],
   "source": [
    "threshold = 0.001\n",
    "writevar('SWITCH_THRESHOLD', threshold)\n",
    "switch = fit_models(ndf)"
   ]
  },
  {
   "cell_type": "code",
   "execution_count": 86,
   "metadata": {
    "collapsed": false,
    "scrolled": false
   },
   "outputs": [],
   "source": [
    "pdf['switched'] = switch.pr_chisq < threshold\n",
    "tbl = pdf.groupby('feedback').switched.value_counts().unstack()\n",
    "tbl = tbl.fillna(0).astype(int)"
   ]
  },
  {
   "cell_type": "code",
   "execution_count": 87,
   "metadata": {
    "collapsed": false
   },
   "outputs": [
    {
     "name": "stdout",
     "output_type": "stream",
     "text": [
      "EXP3_SWITCH_FB = 2\n",
      "EXP3_SWITCH_NOFB = 0\n"
     ]
    }
   ],
   "source": [
    "sfb = tbl[True][True]\n",
    "snofb = tbl[True][False]\n",
    "writevar('SWITCH_FB', sfb)\n",
    "writevar('SWITCH_NOFB', snofb)\n",
    "success = tbl[1]\n",
    "count = tbl.sum(axis=1)"
   ]
  },
  {
   "cell_type": "code",
   "execution_count": 62,
   "metadata": {
    "collapsed": false
   },
   "outputs": [],
   "source": [
    "%%R -i success -i count -i threshold -o p1 -o p2 -o p3\n",
    "p1 = prop.test(success[1], count[1], p=threshold)\n",
    "p2 = prop.test(success[2], count[2], p=threshold)\n",
    "p3 = prop.test(success, count, p=c(threshold, threshold))"
   ]
  },
  {
   "cell_type": "code",
   "execution_count": 63,
   "metadata": {
    "collapsed": false
   },
   "outputs": [
    {
     "name": "stdout",
     "output_type": "stream",
     "text": [
      "EXP3_SWITCH_CHI_FB_NOFB = $\\chi^2(2)=47,\\ p < 0.001$\n"
     ]
    },
    {
     "data": {
      "text/latex": [
       "$\\chi^2(2)=47,\\ p < 0.001$"
      ],
      "text/plain": [
       "<IPython.core.display.Latex object>"
      ]
     },
     "metadata": {},
     "output_type": "display_data"
    },
    {
     "name": "stdout",
     "output_type": "stream",
     "text": [
      "EXP3_SWITCH_CHI_NOFB_NULL = $\\chi^2(1)=0,\\ p = 1.00$\n"
     ]
    },
    {
     "data": {
      "text/latex": [
       "$\\chi^2(1)=0,\\ p = 1.00$"
      ],
      "text/plain": [
       "<IPython.core.display.Latex object>"
      ]
     },
     "metadata": {},
     "output_type": "display_data"
    },
    {
     "name": "stdout",
     "output_type": "stream",
     "text": [
      "EXP3_SWITCH_CHI_FB_NULL = $\\chi^2(1)=43,\\ p < 0.001$\n"
     ]
    },
    {
     "data": {
      "text/latex": [
       "$\\chi^2(1)=43,\\ p < 0.001$"
      ],
      "text/plain": [
       "<IPython.core.display.Latex object>"
      ]
     },
     "metadata": {},
     "output_type": "display_data"
    }
   ],
   "source": [
    "comps = {\n",
    "    'nofb_null': {k: ri2py(v) for k, v in p1.items()},\n",
    "    'fb_null': {k: ri2py(v) for k, v in p2.items()},\n",
    "    'fb_nofb': {k: ri2py(v) for k, v in p3.items()},\n",
    "}\n",
    "extract = ['estimate', 'statistic', 'p.value', 'parameter']\n",
    "tbl = pd.DataFrame(\n",
    "    {e: [vals[e] for vals in comps.values()] for e in extract},\n",
    "    index = comps.keys()\n",
    ")\n",
    "tex_chi2 = r\"$\\chi^2({parameter:.0f})={statistic:.0f},\\ {signif}$\"\n",
    "\n",
    "tbl = tbl.applymap(lambda x: x[0] if len(x) == 1 else x[1] - x[0])\n",
    "tbl = tbl.rename(columns=reformat_name)\n",
    "tbl['signif'] = tbl[reformat_name('p_value')].apply(pval)\n",
    "save_analysis(tbl, 'SWITCH_CHI_{idx}', tex_chi2)\n",
    "savevars()\n"
   ]
  },
  {
   "cell_type": "code",
   "execution_count": 64,
   "metadata": {
    "collapsed": false
   },
   "outputs": [
    {
     "data": {
      "text/html": [
       "<div>\n",
       "<style>\n",
       "    .dataframe thead tr:only-child th {\n",
       "        text-align: right;\n",
       "    }\n",
       "\n",
       "    .dataframe thead th {\n",
       "        text-align: left;\n",
       "    }\n",
       "\n",
       "    .dataframe tbody tr th {\n",
       "        vertical-align: top;\n",
       "    }\n",
       "</style>\n",
       "<table border=\"1\" class=\"dataframe\">\n",
       "  <thead>\n",
       "    <tr>\n",
       "      <th>feedback</th>\n",
       "      <th colspan=\"2\" halign=\"left\">0</th>\n",
       "      <th colspan=\"2\" halign=\"left\">1</th>\n",
       "    </tr>\n",
       "    <tr>\n",
       "      <th>passed_quiz</th>\n",
       "      <th>0</th>\n",
       "      <th>1</th>\n",
       "      <th>0</th>\n",
       "      <th>1</th>\n",
       "    </tr>\n",
       "    <tr>\n",
       "      <th>switched</th>\n",
       "      <th></th>\n",
       "      <th></th>\n",
       "      <th></th>\n",
       "      <th></th>\n",
       "    </tr>\n",
       "  </thead>\n",
       "  <tbody>\n",
       "    <tr>\n",
       "      <th>0</th>\n",
       "      <td>41</td>\n",
       "      <td>11</td>\n",
       "      <td>38</td>\n",
       "      <td>9</td>\n",
       "    </tr>\n",
       "    <tr>\n",
       "      <th>1</th>\n",
       "      <td>0</td>\n",
       "      <td>0</td>\n",
       "      <td>0</td>\n",
       "      <td>2</td>\n",
       "    </tr>\n",
       "  </tbody>\n",
       "</table>\n",
       "</div>"
      ],
      "text/plain": [
       "feedback      0       1   \n",
       "passed_quiz   0   1   0  1\n",
       "switched                  \n",
       "0            41  11  38  9\n",
       "1             0   0   0  2"
      ]
     },
     "execution_count": 64,
     "metadata": {},
     "output_type": "execute_result"
    }
   ],
   "source": [
    "pdf['passed_quiz'] = final_qdf.set_index('pidx', drop=False).perfect\n",
    "\n",
    "tbl = pdf.groupby(['feedback', 'passed_quiz']).switched.value_counts().unstack().T\n",
    "tbl = tbl.rename(int, int).fillna(0).astype(int)\n",
    "tbl"
   ]
  },
  {
   "cell_type": "code",
   "execution_count": 65,
   "metadata": {
    "collapsed": false
   },
   "outputs": [
    {
     "name": "stdout",
     "output_type": "stream",
     "text": [
      "EXP3_TABLE_NOFB =  & 41 & 11 & 0 & 0\n",
      "EXP3_TABLE_FB =  & 38 & 9 & 0 & 2\n",
      "EXP3_N_NO_FEEDBACK = 53\n",
      "EXP3_N_FEEDBACK = 49\n"
     ]
    }
   ],
   "source": [
    "# cue quiz table\n",
    "for f in (0, 1):\n",
    "    row = []\n",
    "    for m in (0, 1):\n",
    "        for q in (0, 1):\n",
    "            n = tbl[f][q][m]\n",
    "            row.append(n)\n",
    "    fb = ['NOFB', 'FB'][f]\n",
    "    writevar('TABLE_'+fb, ' & ' + ' & '.join(map(str, row)))\n",
    "\n",
    "counts = pdf.feedback.value_counts()\n",
    "writevar('N_NO_FEEDBACK', counts[False])\n",
    "writevar('N_FEEDBACK', counts[True])\n",
    "savevars()"
   ]
  },
  {
   "cell_type": "code",
   "execution_count": 23,
   "metadata": {
    "collapsed": false
   },
   "outputs": [],
   "source": [
    "best = np.asarray(switch.sort_values(by='bic_diff', ascending=False).index)\n",
    "good = switch.query('cue_better')"
   ]
  },
  {
   "cell_type": "code",
   "execution_count": 24,
   "metadata": {
    "collapsed": false,
    "scrolled": true
   },
   "outputs": [
    {
     "data": {
      "text/plain": [
       "[56, 41, 101, 65, 31, 59, 58, 25]"
      ]
     },
     "execution_count": 24,
     "metadata": {},
     "output_type": "execute_result"
    }
   ],
   "source": [
    "nofb = switch.query('pr_chisq < {} and ~feedback_cond'.format(threshold)).sort_values(by='bic_diff', ascending=False)\n",
    "no_fb_learners = list(nofb.index)"
   ]
  },
  {
   "cell_type": "code",
   "execution_count": 25,
   "metadata": {
    "collapsed": false
   },
   "outputs": [],
   "source": [
    "fb = switch.query('pr_chisq < {} and feedback_cond'.format(threshold)).sort_values(by='bic_diff', ascending=False)\n",
    "fb_learners = list(fb.index)"
   ]
  },
  {
   "cell_type": "code",
   "execution_count": 26,
   "metadata": {
    "collapsed": false
   },
   "outputs": [
    {
     "name": "stderr",
     "output_type": "stream",
     "text": [
      "/usr/local/lib/miniconda3/lib/python3.5/site-packages/ipykernel/__main__.py:14: DeprecationWarning: \n",
      ".ix is deprecated. Please use\n",
      ".loc for label based indexing or\n",
      ".iloc for positional indexing\n",
      "\n",
      "See the documentation here:\n",
      "http://pandas.pydata.org/pandas-docs/stable/indexing.html#deprecate_ix\n"
     ]
    },
    {
     "name": "stdout",
     "output_type": "stream",
     "text": [
      "../paper/figs/1/learners.pdf\n"
     ]
    },
    {
     "data": {
      "image/png": "[encoded data removed]",
      "text/plain": [
       "<matplotlib.figure.Figure at 0x105143d68>"
      ]
     },
     "metadata": {},
     "output_type": "display_data"
    }
   ],
   "source": [
    "@plot()\n",
    "def plot_learners(ps=no_fb_learners[:2]):\n",
    "    if not isinstance(ps, list):\n",
    "        ps = [ps]\n",
    "    if not ps:\n",
    "        print(\"Can't plot learners when there aren't any learners :(\")\n",
    "        return\n",
    "    fig, axes = plt.subplots(len(ps), 1, squeeze=False)\n",
    "    for p, ax in zip(ps, axes.ravel()):\n",
    "        plt.sca(ax)\n",
    "        d = ndf[ndf.pidx == p].copy()\n",
    "        sns.pointplot('block', 'correct', hue='cue', data=d, \n",
    "                      **PK, aspect=3, size=4, ax=ax)\n",
    "        ax.set_title(r'$\\mathrm{{LLR}}={llhr:.2f},\\ C={switch_idx:.0f}$'.format(**switch.ix[p]))\n",
    "        \n",
    "        blocklen = bdf[bdf.pidx == 48].groupby(\"block\").apply(len)\n",
    "        mintrial = blocklen[1:2].sum()\n",
    "        maxtrial = blocklen[1:-1].sum() + 1\n",
    "        switch_idx = switch.ix[p].switch_idx\n",
    "        x = 8 * (switch_idx - mintrial) / (maxtrial - mintrial)\n",
    "        ax.axvline(x, c='r', ls='-', lw=3)\n",
    "\n",
    "        ax.hlines(0.5, -0.5, 9.5, linestyle='--', linewidth=1, color='k')\n",
    "        ax.set_yticks([0, 0.5, 1])\n",
    "        ax.legend().remove()\n",
    "        ax.set_xlabel('')\n",
    "        ax.set_ylabel('Correct')\n",
    "        # ax.set_xticklabels(np.cumsum(blocklen[1:]))\n",
    "\n",
    "    fig.set_size_inches(6, 4)\n",
    "    plt.tight_layout()\n",
    "    plt.subplots_adjust(left=0.11, right=0.99)\n",
    "    sns.despine()"
   ]
  }
 ],
 "metadata": {
  "anaconda-cloud": {},
  "kernelspec": {
   "display_name": "Python [default]",
   "language": "python",
   "name": "python3"
  },
  "language_info": {
   "codemirror_mode": {
    "name": "ipython",
    "version": 3
   },
   "file_extension": ".py",
   "mimetype": "text/x-python",
   "name": "python",
   "nbconvert_exporter": "python",
   "pygments_lexer": "ipython3",
   "version": "3.5.2"
  }
 },
 "nbformat": 4,
 "nbformat_minor": 2
}
