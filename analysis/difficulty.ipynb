{
 "cells": [
  {
   "cell_type": "code",
   "execution_count": 5,
   "metadata": {
    "collapsed": false,
    "init_cell": true
   },
   "outputs": [
    {
     "name": "stdout",
     "output_type": "stream",
     "text": [
      "The autoreload extension is already loaded. To reload it, use:\n",
      "  %reload_ext autoreload\n"
     ]
    }
   ],
   "source": [
    "%matplotlib inline\n",
    "%load_ext autoreload\n",
    "%autoreload\n",
    "\n",
    "import matplotlib.pyplot as plt\n",
    "import numpy as np\n",
    "import pandas as pd\n",
    "import seaborn as sns\n",
    "from collections import Counter, defaultdict, deque\n",
    "import itertools as it\n",
    "from utils import Labeler\n",
    "import statsmodels\n",
    "from scipy import stats"
   ]
  },
  {
   "cell_type": "code",
   "execution_count": 11,
   "metadata": {
    "collapsed": false,
    "init_cell": true
   },
   "outputs": [
    {
     "name": "stdout",
     "output_type": "stream",
     "text": [
      "EXP3_N_PARTICIPANT = 112\n",
      "EXP3_N_UNFINISHED = 6\n",
      "EXP3_N_CAUGHT = 5\n",
      "EXP3_N_REMAIN = 101\n",
      "EXP3_N_RT_CLIP = 35\n",
      "EXP3_THRESHOLD_RT_CLIP = 12.155521660073683\n",
      "The rpy2.ipython extension is already loaded. To reload it, use:\n",
      "  %reload_ext rpy2.ipython\n"
     ]
    },
    {
     "name": "stderr",
     "output_type": "stream",
     "text": [
      "preprocess.ipynb:45: DeprecationWarning: \n",
      ".ix is deprecated. Please use\n",
      ".loc for label based indexing or\n",
      ".iloc for positional indexing\n",
      "\n",
      "See the documentation here:\n",
      "http://pandas.pydata.org/pandas-docs/stable/indexing.html#deprecate_ix\n",
      "  \"outputs\": [],\n"
     ]
    }
   ],
   "source": [
    "EXPERIMENT = 3\n",
    "%run preprocess.ipynb"
   ]
  },
  {
   "cell_type": "markdown",
   "metadata": {},
   "source": [
    "# Stats"
   ]
  },
  {
   "cell_type": "markdown",
   "metadata": {},
   "source": [
    "## Anova"
   ]
  },
  {
   "cell_type": "code",
   "execution_count": 19,
   "metadata": {
    "collapsed": false
   },
   "outputs": [],
   "source": [
    "rdf = prep_for_r(ndf)\n",
    "rdf['difficulty'] = rdf.difficulty.apply(Labeler())"
   ]
  },
  {
   "cell_type": "code",
   "execution_count": 20,
   "metadata": {
    "collapsed": false
   },
   "outputs": [
    {
     "name": "stderr",
     "output_type": "stream",
     "text": [
      "/usr/local/lib/miniconda3/lib/python3.5/site-packages/rpy2/robjects/pandas2ri.py:57: UserWarning: Error while trying to convert the column \"difficulty\". Fall back to string conversion. The error is: Converting pandas \"Category\" series to R factor is only possible when categories are strings.\n",
      "  (name, str(e)))\n"
     ]
    },
    {
     "data": {
      "text/plain": [
       "Analysis of Deviance Table (Type III tests)\n",
       "\n",
       "Response: correct\n",
       "                        LR Chisq Df Pr(>Chisq)    \n",
       "cue                        1.269  1     0.2599    \n",
       "feedback                   0.644  1     0.4224    \n",
       "difficulty               143.079  2     <2e-16 ***\n",
       "cue:feedback               0.783  1     0.3763    \n",
       "cue:difficulty             0.604  2     0.7392    \n",
       "feedback:difficulty        0.867  2     0.6482    \n",
       "cue:feedback:difficulty    0.345  2     0.8417    \n",
       "---\n",
       "Signif. codes:  0 ‘***’ 0.001 ‘**’ 0.01 ‘*’ 0.05 ‘.’ 0.1 ‘ ’ 1\n"
      ]
     },
     "metadata": {},
     "output_type": "display_data"
    }
   ],
   "source": [
    "%%R -i rdf -o aov\n",
    "df = rdf\n",
    "df$feedback <- as.factor(df$feedback)\n",
    "df$difficulty <- as.factor(df$difficulty)\n",
    "df$cue <- as.factor(df$cue)\n",
    "\n",
    "full = glm(correct ~ cue * feedback * difficulty, data=df, family='binomial')\n",
    "aov = Anova(full, type=3)\n",
    "aov"
   ]
  },
  {
   "cell_type": "code",
   "execution_count": 14,
   "metadata": {
    "collapsed": false
   },
   "outputs": [
    {
     "name": "stdout",
     "output_type": "stream",
     "text": [
      "EXP3_ACC_ANOVA_CUE = $\\chi^2(1)=1.269,\\ p = 0.26$\n",
      "EXP3_ACC_ANOVA_FEEDBACK = $\\chi^2(1)=0.644,\\ p = 0.42$\n",
      "EXP3_ACC_ANOVA_DIFFICULTY = $\\chi^2(2)=143.079,\\ p < 0.001$\n",
      "EXP3_ACC_ANOVA_CUE_FEEDBACK = $\\chi^2(1)=0.783,\\ p = 0.38$\n",
      "EXP3_ACC_ANOVA_CUE_DIFFICULTY = $\\chi^2(2)=0.604,\\ p = 0.74$\n",
      "EXP3_ACC_ANOVA_FEEDBACK_DIFFICULTY = $\\chi^2(2)=0.867,\\ p = 0.65$\n",
      "EXP3_ACC_ANOVA_CUE_FEEDBACK_DIFFICULTY = $\\chi^2(2)=0.345,\\ p = 0.84$\n"
     ]
    }
   ],
   "source": [
    "aov_tbl = get_rtable(aov, p_col='pr_chisq')\n",
    "tex_chi2 = r\"$\\chi^2({df:.0f})={lr_chisq:.3f},\\ {signif}$\"\n",
    "name = 'ACC_ANOVA_{idx}'\n",
    "save_analysis(aov_tbl, name, tex_chi2, display_tex=False)"
   ]
  },
  {
   "cell_type": "markdown",
   "metadata": {},
   "source": [
    "## Comparisons"
   ]
  },
  {
   "cell_type": "code",
   "execution_count": 10,
   "metadata": {
    "collapsed": false
   },
   "outputs": [
    {
     "name": "stderr",
     "output_type": "stream",
     "text": [
      "/usr/local/lib/miniconda3/lib/python3.5/site-packages/rpy2/rinterface/__init__.py:186: RRuntimeWarning: NOTE: Results may be misleading due to involvement in interactions\n",
      "\n",
      "  warnings.warn(x, RRuntimeWarning)\n"
     ]
    },
    {
     "data": {
      "text/plain": [
       " difficulty feedback cue contrast   estimate         SE df z.ratio p.value\n",
       " 0          0        .   0 - 1    -0.1887069 0.12830068 NA  -1.471  0.6872\n",
       " 1          0        .   0 - 1    -0.3634414 0.09026869 NA  -4.026  0.0006\n",
       " 2          0        .   0 - 1    -0.3036466 0.10253339 NA  -2.961  0.0273\n",
       " 0          1        .   0 - 1    -0.4069894 0.13117167 NA  -3.103  0.0175\n",
       " 1          1        .   0 - 1    -0.7739085 0.09755383 NA  -7.933  <.0001\n",
       " 2          1        .   0 - 1    -1.2968855 0.11942908 NA -10.859  <.0001\n",
       " .          0        .   0 - 1    -0.2852650 0.06247008 NA  -4.566  <.0001\n",
       " .          1        .   0 - 1    -0.8259278 0.06748338 NA -12.239  <.0001\n",
       " .          .        0   0 - 1     0.0306114 0.06091903 NA   0.502  0.9989\n",
       " .          .        1   0 - 1    -0.5100514 0.06888678 NA  -7.404  <.0001\n",
       "\n",
       "Results are averaged over some or all of the levels of: difficulty \n",
       "Results are given on the log odds ratio (not the response) scale. \n",
       "P value adjustment: mvt method for 10 tests \n"
      ]
     },
     "metadata": {},
     "output_type": "display_data"
    }
   ],
   "source": [
    "%%R -o comps\n",
    "cdf <- pairs(lsmeans(full, ~ cue | difficulty + feedback))\n",
    "cf <- pairs(lsmeans(full, ~ cue | feedback))\n",
    "# Does feedback matter when there is no cue\n",
    "fc <- pairs(lsmeans(full, ~ feedback | cue))\n",
    "comps = summary(rbind(cdf, cf, fc))\n",
    "comps"
   ]
  },
  {
   "cell_type": "code",
   "execution_count": 11,
   "metadata": {
    "collapsed": false
   },
   "outputs": [],
   "source": [
    "# r = ri2py(results).rename(columns=to_snake_case)\n",
    "comps_tbl = get_rtable(comps, 'p_value')\n",
    "comps_tbl[\"difficulty\"] = comps_tbl[\"difficulty\"].replace(\n",
    "    {\"0\": \"easy\", \"1\": \"medium\", \"2\": \"hard\", \".\": \"\"})\n",
    "comps_tbl[\"feedback\"] = comps_tbl[\"feedback\"].replace({\"0\": \"nofb\", \"1\": \"fb\", \".\": \"\"})\n",
    "comps_tbl[\"cue\"] = comps_tbl[\"cue\"].replace({\"0\": \"neutral\", \"1\": \"honest\", \".\": \"\"})"
   ]
  },
  {
   "cell_type": "code",
   "execution_count": 12,
   "metadata": {
    "collapsed": false
   },
   "outputs": [
    {
     "name": "stdout",
     "output_type": "stream",
     "text": [
      "EXP1_ACC_EASY_NOFB = $\\mathrm{LLR} = -0.19 \\pm 0.13,\\ z=-1.47,\\ p = 0.69$\n",
      "EXP1_ACC_MEDIUM_NOFB = $\\mathrm{LLR} = -0.36 \\pm 0.09,\\ z=-4.03,\\ p < 0.001$\n",
      "EXP1_ACC_HARD_NOFB = $\\mathrm{LLR} = -0.30 \\pm 0.10,\\ z=-2.96,\\ p < 0.05$\n",
      "EXP1_ACC_EASY_FB = $\\mathrm{LLR} = -0.41 \\pm 0.13,\\ z=-3.10,\\ p < 0.05$\n",
      "EXP1_ACC_MEDIUM_FB = $\\mathrm{LLR} = -0.77 \\pm 0.10,\\ z=-7.93,\\ p < 0.001$\n",
      "EXP1_ACC_HARD_FB = $\\mathrm{LLR} = -1.30 \\pm 0.12,\\ z=-10.86,\\ p < 0.001$\n",
      "EXP1_ACC__NOFB = $\\mathrm{LLR} = -0.29 \\pm 0.06,\\ z=-4.57,\\ p < 0.001$\n",
      "EXP1_ACC__FB = $\\mathrm{LLR} = -0.83 \\pm 0.07,\\ z=-12.24,\\ p < 0.001$\n",
      "EXP1_ACC_CUE_NEUTRAL = $\\mathrm{LLR} = 0.03 \\pm 0.06,\\ z=0.50,\\ p = 1.00$\n",
      "EXP1_ACC_CUE_HONEST = $\\mathrm{LLR} = -0.51 \\pm 0.07,\\ z=-7.40,\\ p < 0.001$\n"
     ]
    }
   ],
   "source": [
    "def name(row):\n",
    "    if row[\"cue\"]:\n",
    "        return \"ACC_CUE_{cue}\"\n",
    "    else:\n",
    "        return \"ACC_{difficulty}_{feedback}\"\n",
    "\n",
    "tex_ztest = r\"$\\mathrm{{LLR}} = {estimate:.2f} \\pm {se:.2f},\\ z={z_ratio:.2f},\\ {signif}$\"\n",
    "save_analysis(comps_tbl, name, tex_ztest, display_tex=False)"
   ]
  },
  {
   "cell_type": "code",
   "execution_count": 13,
   "metadata": {
    "collapsed": false
   },
   "outputs": [],
   "source": [
    "savevars()"
   ]
  },
  {
   "cell_type": "markdown",
   "metadata": {},
   "source": [
    "# Plot"
   ]
  },
  {
   "cell_type": "code",
   "execution_count": 14,
   "metadata": {
    "collapsed": false
   },
   "outputs": [
    {
     "name": "stderr",
     "output_type": "stream",
     "text": [
      "/usr/local/lib/miniconda3/lib/python3.5/site-packages/ipykernel/__main__.py:20: DeprecationWarning: \n",
      ".ix is deprecated. Please use\n",
      ".loc for label based indexing or\n",
      ".iloc for positional indexing\n",
      "\n",
      "See the documentation here:\n",
      "http://pandas.pydata.org/pandas-docs/stable/indexing.html#deprecate_ix\n"
     ]
    },
    {
     "name": "stdout",
     "output_type": "stream",
     "text": [
      "../paper/figs/1/difficulty_correct.pdf\n"
     ]
    },
    {
     "data": {
      "image/png": "[encoded data removed]",
      "text/plain": [
       "<matplotlib.figure.Figure at 0x10ae024a8>"
      ]
     },
     "metadata": {},
     "output_type": "display_data"
    }
   ],
   "source": [
    "@plot(val='correct')\n",
    "def plot_difficulty(df=ndf, val=None):\n",
    "    g = sns.factorplot('difficulty', val, hue='cue', col='feedback',\n",
    "                   data=df, **PK, legend=False)\n",
    "    g.axes.flat[0].set_ylabel('Proportion Correct')\n",
    "    g.axes.flat[1].legend(loc=\"lower center\")\n",
    "    \n",
    "    for ax in g.axes.flat:\n",
    "        ax.set_ylim(0, 1.1)\n",
    "        ax.hlines(0.5, -0.4, 2.4, linestyles='--', lw=1)\n",
    "        ax.set_xlabel('')\n",
    "    feedback_labels(g)\n",
    "\n",
    "    # Significicance\n",
    "    def star(ax, x, p):\n",
    "        n_star = 3 if p < .001 else 2 if p < .01 else 1 if p < .05 else 0\n",
    "        if n_star:\n",
    "            g.axes.flat[ax].text(x, 0.9, '*' * n_star, fontsize=20, horizontalalignment='center')\n",
    "    \n",
    "    for i, row in comps_tbl.ix[:6].iterrows():\n",
    "        i -= 1\n",
    "        if '<' in row.signif:\n",
    "            star(i // 3, i % 3, row.p_value)\n",
    "\n",
    "    plt.gcf().set_size_inches(7, 3)\n",
    "    plt.suptitle('(b)', y=1)\n",
    "    plt.tight_layout()"
   ]
  }
 ],
 "metadata": {
  "anaconda-cloud": {},
  "celltoolbar": "Initialisation Cell",
  "hide_input": false,
  "kernelspec": {
   "display_name": "Python [default]",
   "language": "python",
   "name": "python3"
  },
  "language_info": {
   "codemirror_mode": {
    "name": "ipython",
    "version": 3
   },
   "file_extension": ".py",
   "mimetype": "text/x-python",
   "name": "python",
   "nbconvert_exporter": "python",
   "pygments_lexer": "ipython3",
   "version": "3.5.2"
  },
  "nav_menu": {},
  "notify_time": "10",
  "toc": {
   "nav_menu": {
    "height": "102px",
    "width": "252px"
   },
   "navigate_menu": true,
   "number_sections": true,
   "sideBar": true,
   "threshold": 6,
   "toc_cell": false,
   "toc_section_display": "block",
   "toc_window_display": false
  }
 },
 "nbformat": 4,
 "nbformat_minor": 0
}
