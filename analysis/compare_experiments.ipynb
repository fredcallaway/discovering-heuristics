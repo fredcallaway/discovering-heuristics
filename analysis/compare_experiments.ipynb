{
 "cells": [
  {
   "cell_type": "code",
   "execution_count": 25,
   "metadata": {
    "collapsed": false
   },
   "outputs": [
    {
     "name": "stdout",
     "output_type": "stream",
     "text": [
      "The autoreload extension is already loaded. To reload it, use:\n",
      "  %reload_ext autoreload\n"
     ]
    }
   ],
   "source": [
    "%matplotlib inline\n",
    "%load_ext autoreload\n",
    "%autoreload\n",
    "\n",
    "import matplotlib.pyplot as plt\n",
    "import numpy as np\n",
    "import pandas as pd\n",
    "import seaborn as sns\n",
    "from collections import Counter, defaultdict, deque\n",
    "import itertools as it\n",
    "from utils import Labeler\n",
    "import statsmodels\n",
    "from scipy import stats"
   ]
  },
  {
   "cell_type": "code",
   "execution_count": 55,
   "metadata": {
    "collapsed": false
   },
   "outputs": [
    {
     "name": "stdout",
     "output_type": "stream",
     "text": [
      "cue\n",
      "honest     0.701222\n",
      "neutral    0.687858\n",
      "Name: correct, dtype: float64\n",
      "cue\n",
      "honest     0.700073\n",
      "neutral    0.705519\n",
      "Name: correct, dtype: float64\n"
     ]
    }
   ],
   "source": [
    "print(ndfs[1].groupby('cue').correct.mean())\n",
    "print(ndfs[2].groupby('cue').correct.mean())"
   ]
  },
  {
   "cell_type": "code",
   "execution_count": 31,
   "metadata": {
    "collapsed": false
   },
   "outputs": [],
   "source": [
    "%%capture\n",
    "\n",
    "ndfs = []\n",
    "switches = []\n",
    "final_qdfs = []\n",
    "pdfs = []\n",
    "exp23_misformat = 0\n",
    "exp23_caught = 0\n",
    "exp23_remain = 0\n",
    "\n",
    "EXPERIMENT = 1\n",
    "%run optimize_model.ipynb\n",
    "ndfs.append(ndf)\n",
    "final_qdfs.append(final_qdf)\n",
    "switches.append(switch)\n",
    "pdfs.append(pdf)\n",
    "\n",
    "caught_pids = caught_pids\n",
    "misformat_pids3 = misformat_pids\n",
    "\n",
    "EXPERIMENT = 2\n",
    "%run optimize_model.ipynb\n",
    "ndfs.append(ndf)\n",
    "final_qdfs.append(final_qdf)\n",
    "switches.append(switch)\n",
    "pdfs.append(pdf)\n",
    "exp23_misformat += len(misformat_pids)\n",
    "exp23_caught += len(caught_pids)\n",
    "exp23_remain += len(pdf)\n",
    "\n",
    "EXPERIMENT = 3\n",
    "%run optimize_model.ipynb\n",
    "ndfs.append(ndf)\n",
    "final_qdfs.append(final_qdf)\n",
    "switches.append(switch)\n",
    "pdfs.append(pdf)\n",
    "exp23_misformat += len(misformat_pids)\n",
    "exp23_caught += len(caught_pids)\n",
    "exp23_remain += len(pdf)"
   ]
  },
  {
   "cell_type": "code",
   "execution_count": 32,
   "metadata": {
    "collapsed": false
   },
   "outputs": [],
   "source": [
    "CODE_VERSION = 'all'\n",
    "exp = 'ALL'"
   ]
  },
  {
   "cell_type": "code",
   "execution_count": 33,
   "metadata": {
    "collapsed": true
   },
   "outputs": [],
   "source": [
    "def cat2str(df):\n",
    "    cat_columns = df.select_dtypes(['category']).columns\n",
    "    df[cat_columns] = df[cat_columns].apply(lambda x: x.cat.codes)\n",
    "    return df"
   ]
  },
  {
   "cell_type": "code",
   "execution_count": 34,
   "metadata": {
    "collapsed": false
   },
   "outputs": [],
   "source": [
    "for dfs in (ndfs, switches, final_qdfs, pdfs):\n",
    "    for i, df in enumerate(dfs):\n",
    "        df['experiment'] = \"Exp {}\".format(i+1)\n",
    "\n",
    "ndf = pd.concat(map(cat2str, ndfs))\n",
    "switch = pd.concat(map(cat2str, switches))\n",
    "qdf = pd.concat(map(cat2str, final_qdfs))\n",
    "pdf = pd.concat(map(cat2str, pdfs))"
   ]
  },
  {
   "cell_type": "markdown",
   "metadata": {},
   "source": [
    "# Accuracy on normal trials"
   ]
  },
  {
   "cell_type": "markdown",
   "metadata": {},
   "source": [
    "## Stats"
   ]
  },
  {
   "cell_type": "code",
   "execution_count": 35,
   "metadata": {
    "collapsed": false
   },
   "outputs": [
    {
     "name": "stderr",
     "output_type": "stream",
     "text": [
      "/usr/local/lib/miniconda3/lib/python3.5/site-packages/ipykernel/__main__.py:1: FutureWarning: 'pidx' is both a column name and an index level.\n",
      "Defaulting to column but this will raise an ambiguity error in a future version\n",
      "  if __name__ == '__main__':\n"
     ]
    }
   ],
   "source": [
    "df = ndf.groupby([\"experiment\", \"cue\", \"feedback\", \"pidx\"])[\"correct\"].mean().unstack(\"cue\")\n",
    "# df"
   ]
  },
  {
   "cell_type": "code",
   "execution_count": 36,
   "metadata": {
    "collapsed": false
   },
   "outputs": [
    {
     "name": "stderr",
     "output_type": "stream",
     "text": [
      "/usr/local/lib/miniconda3/lib/python3.5/site-packages/ipykernel/__main__.py:1: FutureWarning: 'pidx' is both a column name and an index level.\n",
      "Defaulting to column but this will raise an ambiguity error in a future version\n",
      "  if __name__ == '__main__':\n"
     ]
    }
   ],
   "source": [
    "df = ndf.groupby([\"experiment\", \"cue\", \"feedback\", \"pidx\"])[\"correct\"].mean().unstack(\"cue\")\n",
    "df = df[\"honest\"] - df[\"neutral\"]\n",
    "df = df.to_frame(\"diff\").reset_index()"
   ]
  },
  {
   "cell_type": "code",
   "execution_count": 37,
   "metadata": {
    "collapsed": false
   },
   "outputs": [
    {
     "data": {
      "text/plain": [
       "Anova Table (Type III tests)\n",
       "\n",
       "Response: diff\n",
       "                     Sum Sq  Df F value    Pr(>F)    \n",
       "(Intercept)         0.19284   1 22.3875 3.461e-06 ***\n",
       "experiment          0.15447   2  8.9665 0.0001658 ***\n",
       "feedback            0.22661   1 26.3079 5.282e-07 ***\n",
       "experiment:feedback 0.10318   2  5.9893 0.0028204 ** \n",
       "Residuals           2.54108 295                      \n",
       "---\n",
       "Signif. codes:  0 ‘***’ 0.001 ‘**’ 0.01 ‘*’ 0.05 ‘.’ 0.1 ‘ ’ 1\n"
      ]
     },
     "metadata": {},
     "output_type": "display_data"
    }
   ],
   "source": [
    "%%R -i df -o aov\n",
    "\n",
    "df$experiment <- as.factor(df$experiment)\n",
    "df$feedback <- as.factor(df$feedback)\n",
    "mod <- lm(diff ~ experiment * feedback, data=df)\n",
    "aov <- Anova(mod, type='III')\n",
    "aov "
   ]
  },
  {
   "cell_type": "code",
   "execution_count": 38,
   "metadata": {
    "collapsed": false
   },
   "outputs": [
    {
     "name": "stdout",
     "output_type": "stream",
     "text": [
      "EXP3_ANOVA__INTERCEPT = $\\chi^2(1)=0.193,\\ p < 0.001$\n"
     ]
    },
    {
     "data": {
      "text/latex": [
       "$\\chi^2(1)=0.193,\\ p < 0.001$"
      ],
      "text/plain": [
       "<IPython.core.display.Latex object>"
      ]
     },
     "metadata": {},
     "output_type": "display_data"
    },
    {
     "name": "stdout",
     "output_type": "stream",
     "text": [
      "EXP3_ANOVA_EXPERIMENT = $\\chi^2(2)=0.154,\\ p < 0.001$\n"
     ]
    },
    {
     "data": {
      "text/latex": [
       "$\\chi^2(2)=0.154,\\ p < 0.001$"
      ],
      "text/plain": [
       "<IPython.core.display.Latex object>"
      ]
     },
     "metadata": {},
     "output_type": "display_data"
    },
    {
     "name": "stdout",
     "output_type": "stream",
     "text": [
      "EXP3_ANOVA_FEEDBACK = $\\chi^2(1)=0.227,\\ p < 0.001$\n"
     ]
    },
    {
     "data": {
      "text/latex": [
       "$\\chi^2(1)=0.227,\\ p < 0.001$"
      ],
      "text/plain": [
       "<IPython.core.display.Latex object>"
      ]
     },
     "metadata": {},
     "output_type": "display_data"
    },
    {
     "name": "stdout",
     "output_type": "stream",
     "text": [
      "EXP3_ANOVA_EXPERIMENT_FEEDBACK = $\\chi^2(2)=0.103,\\ p < 0.01$\n"
     ]
    },
    {
     "data": {
      "text/latex": [
       "$\\chi^2(2)=0.103,\\ p < 0.01$"
      ],
      "text/plain": [
       "<IPython.core.display.Latex object>"
      ]
     },
     "metadata": {},
     "output_type": "display_data"
    },
    {
     "name": "stdout",
     "output_type": "stream",
     "text": [
      "EXP3_ANOVA__RESIDUALS = $\\chi^2(295)=2.541,\\ nan$\n"
     ]
    },
    {
     "data": {
      "text/latex": [
       "$\\chi^2(295)=2.541,\\ nan$"
      ],
      "text/plain": [
       "<IPython.core.display.Latex object>"
      ]
     },
     "metadata": {},
     "output_type": "display_data"
    }
   ],
   "source": [
    "aov_tbl = get_rtable(aov, p_col='prf')\n",
    "tex_chi2 = r\"$\\chi^2({df:.0f})={sum_sq:.3f},\\ {signif}$\"\n",
    "name = 'ANOVA_{idx}'\n",
    "save_analysis(aov_tbl, name, tex_chi2, display_tex=True)"
   ]
  },
  {
   "cell_type": "code",
   "execution_count": 39,
   "metadata": {
    "collapsed": false
   },
   "outputs": [
    {
     "data": {
      "text/plain": [
       "feedback = FALSE:\n",
       " experiment       lsmean         SE  df t.ratio p.value\n",
       " Exp 1       0.060897436 0.01287054 295   4.732  <.0001\n",
       " Exp 2       0.005015432 0.01339608 295   0.374  0.7307\n",
       " Exp 3      -0.012928022 0.01274854 295  -1.014  0.9962\n",
       "\n",
       "feedback = TRUE:\n",
       " experiment       lsmean         SE  df t.ratio p.value\n",
       " Exp 1       0.155185185 0.01312542 295  11.823  <.0001\n",
       " Exp 2       0.021541950 0.01325868 295   1.625  0.1498\n",
       " Exp 3       0.002645503 0.01325868 295   0.200  0.8059\n",
       "\n",
       "P value adjustment: sidak method for 3 tests \n",
       "P values are right-tailed \n"
      ]
     },
     "metadata": {},
     "output_type": "display_data"
    }
   ],
   "source": [
    "%%R -o comps\n",
    "\n",
    "comps <- summary(lsmeans(mod, ~ experiment | feedback), infer = c(FALSE,TRUE), adjust=\"tukey\", side=\">\")\n",
    "comps"
   ]
  },
  {
   "cell_type": "code",
   "execution_count": 40,
   "metadata": {
    "collapsed": false
   },
   "outputs": [
    {
     "data": {
      "text/html": [
       "<div>\n",
       "<style>\n",
       "    .dataframe thead tr:only-child th {\n",
       "        text-align: right;\n",
       "    }\n",
       "\n",
       "    .dataframe thead th {\n",
       "        text-align: left;\n",
       "    }\n",
       "\n",
       "    .dataframe tbody tr th {\n",
       "        vertical-align: top;\n",
       "    }\n",
       "</style>\n",
       "<table border=\"1\" class=\"dataframe\">\n",
       "  <thead>\n",
       "    <tr style=\"text-align: right;\">\n",
       "      <th></th>\n",
       "      <th>experiment</th>\n",
       "      <th>feedback</th>\n",
       "      <th>lsmean</th>\n",
       "      <th>se</th>\n",
       "      <th>df</th>\n",
       "      <th>t_ratio</th>\n",
       "      <th>p_value</th>\n",
       "      <th>signif</th>\n",
       "    </tr>\n",
       "  </thead>\n",
       "  <tbody>\n",
       "    <tr>\n",
       "      <th>1</th>\n",
       "      <td>EXP1</td>\n",
       "      <td>FALSE</td>\n",
       "      <td>0.060897</td>\n",
       "      <td>0.012871</td>\n",
       "      <td>295.0</td>\n",
       "      <td>4.731538</td>\n",
       "      <td>0.000005</td>\n",
       "      <td>p &lt; 0.001</td>\n",
       "    </tr>\n",
       "    <tr>\n",
       "      <th>2</th>\n",
       "      <td>EXP2</td>\n",
       "      <td>FALSE</td>\n",
       "      <td>0.005015</td>\n",
       "      <td>0.013396</td>\n",
       "      <td>295.0</td>\n",
       "      <td>0.374395</td>\n",
       "      <td>0.730651</td>\n",
       "      <td>p = 0.73</td>\n",
       "    </tr>\n",
       "    <tr>\n",
       "      <th>3</th>\n",
       "      <td>EXP3</td>\n",
       "      <td>FALSE</td>\n",
       "      <td>-0.012928</td>\n",
       "      <td>0.012749</td>\n",
       "      <td>295.0</td>\n",
       "      <td>-1.014079</td>\n",
       "      <td>0.996226</td>\n",
       "      <td>p = 1.00</td>\n",
       "    </tr>\n",
       "    <tr>\n",
       "      <th>4</th>\n",
       "      <td>EXP1</td>\n",
       "      <td>TRUE</td>\n",
       "      <td>0.155185</td>\n",
       "      <td>0.013125</td>\n",
       "      <td>295.0</td>\n",
       "      <td>11.823251</td>\n",
       "      <td>0.000000</td>\n",
       "      <td>p &lt; 0.001</td>\n",
       "    </tr>\n",
       "    <tr>\n",
       "      <th>5</th>\n",
       "      <td>EXP2</td>\n",
       "      <td>TRUE</td>\n",
       "      <td>0.021542</td>\n",
       "      <td>0.013259</td>\n",
       "      <td>295.0</td>\n",
       "      <td>1.624743</td>\n",
       "      <td>0.149760</td>\n",
       "      <td>p = 0.15</td>\n",
       "    </tr>\n",
       "    <tr>\n",
       "      <th>6</th>\n",
       "      <td>EXP3</td>\n",
       "      <td>TRUE</td>\n",
       "      <td>0.002646</td>\n",
       "      <td>0.013259</td>\n",
       "      <td>295.0</td>\n",
       "      <td>0.199530</td>\n",
       "      <td>0.805888</td>\n",
       "      <td>p = 0.81</td>\n",
       "    </tr>\n",
       "  </tbody>\n",
       "</table>\n",
       "</div>"
      ],
      "text/plain": [
       "  experiment feedback    lsmean        se     df    t_ratio   p_value  \\\n",
       "1       EXP1    FALSE  0.060897  0.012871  295.0   4.731538  0.000005   \n",
       "2       EXP2    FALSE  0.005015  0.013396  295.0   0.374395  0.730651   \n",
       "3       EXP3    FALSE -0.012928  0.012749  295.0  -1.014079  0.996226   \n",
       "4       EXP1     TRUE  0.155185  0.013125  295.0  11.823251  0.000000   \n",
       "5       EXP2     TRUE  0.021542  0.013259  295.0   1.624743  0.149760   \n",
       "6       EXP3     TRUE  0.002646  0.013259  295.0   0.199530  0.805888   \n",
       "\n",
       "      signif  \n",
       "1  p < 0.001  \n",
       "2   p = 0.73  \n",
       "3   p = 1.00  \n",
       "4  p < 0.001  \n",
       "5   p = 0.15  \n",
       "6   p = 0.81  "
      ]
     },
     "execution_count": 40,
     "metadata": {},
     "output_type": "execute_result"
    }
   ],
   "source": [
    "# r = ri2py(results).rename(columns=to_snake_case)\n",
    "comps_tbl = get_rtable(comps, 'p_value')\n",
    "comps_tbl[\"experiment\"] = comps_tbl[\"experiment\"].replace({\"Exp 1\": \"EXP1\", \"Exp 2\": \"EXP2\", \"Exp 3\": \"EXP3\"})\n",
    "comps_tbl"
   ]
  },
  {
   "cell_type": "code",
   "execution_count": 41,
   "metadata": {
    "collapsed": false
   },
   "outputs": [
    {
     "name": "stdout",
     "output_type": "stream",
     "text": [
      "EXP3_COMP_EXP1_FALSE = $\\mu = 0.06 \\pm 0.01,\\ t(295)=4.73,\\ p < 0.001$\n",
      "EXP3_COMP_EXP2_FALSE = $\\mu = 0.01 \\pm 0.01,\\ t(295)=0.37,\\ p = 0.73$\n",
      "EXP3_COMP_EXP3_FALSE = $\\mu = -0.01 \\pm 0.01,\\ t(295)=-1.01,\\ p = 1.00$\n",
      "EXP3_COMP_EXP1_TRUE = $\\mu = 0.16 \\pm 0.01,\\ t(295)=11.82,\\ p < 0.001$\n",
      "EXP3_COMP_EXP2_TRUE = $\\mu = 0.02 \\pm 0.01,\\ t(295)=1.62,\\ p = 0.15$\n",
      "EXP3_COMP_EXP3_TRUE = $\\mu = 0.00 \\pm 0.01,\\ t(295)=0.20,\\ p = 0.81$\n"
     ]
    }
   ],
   "source": [
    "tex_ttest = r\"$\\mu = {lsmean:.2f} \\pm {se:.2f},\\ t({df:.0f})={t_ratio:.2f},\\ {signif}$\"\n",
    "save_analysis(comps_tbl, \"COMP_{experiment}_{feedback}\", tex_ttest, display_tex=False)"
   ]
  },
  {
   "cell_type": "markdown",
   "metadata": {},
   "source": [
    "## Plot"
   ]
  },
  {
   "cell_type": "code",
   "execution_count": 42,
   "metadata": {
    "collapsed": false
   },
   "outputs": [],
   "source": [
    "def signif_stars(g, comps_tbl):\n",
    "    def star(ax, x, p):\n",
    "        n_star = 3 if p < .001 else 2 if p < .01 else 1 if p < .05 else 0\n",
    "        if n_star:\n",
    "            g.axes.flat[ax].text(x, .225, '*' * n_star, fontsize=20, horizontalalignment='center')\n",
    "    \n",
    "    w = g.axes.flat[0].get_children()[0].get_width()\n",
    "    for i, row in comps_tbl.iterrows():\n",
    "        i -= 1\n",
    "        if '<' in row.signif:\n",
    "            x = (i // 3) - w + w * (i % 3)\n",
    "            star(0, x, row.p_value)"
   ]
  },
  {
   "cell_type": "code",
   "execution_count": 43,
   "metadata": {
    "collapsed": true
   },
   "outputs": [],
   "source": [
    "WIDTH, HEIGHT = 4, 3"
   ]
  },
  {
   "cell_type": "code",
   "execution_count": 44,
   "metadata": {
    "collapsed": false
   },
   "outputs": [
    {
     "name": "stdout",
     "output_type": "stream",
     "text": [
      "../paper/figs/3/experiment_differences.pdf\n"
     ]
    },
    {
     "data": {
      "image/png": "[encoded data removed]",
      "text/plain": [
       "<matplotlib.figure.Figure at 0x10f68f470>"
      ]
     },
     "metadata": {},
     "output_type": "display_data"
    }
   ],
   "source": [
    "@plot()\n",
    "def plot_experiment_differences(df=df):\n",
    "    g = sns.factorplot(\n",
    "        \"feedback\", \"diff\", hue=\"experiment\", data=df,\n",
    "        kind='bar', legend=False, palette=\"magma_r\")\n",
    "\n",
    "    ax = g.axes.flat[0]\n",
    "    ax.set_ylim(-0.05, 0.25)\n",
    "    ax.set_ylabel(\"Difference in accuracy\")\n",
    "    ax.set_xlabel(\"\")\n",
    "    ax.set_xticklabels([\"No Feedback\", \"Feedback\"])\n",
    "    ax.axhline(0, color='k', ls='-', lw=1)\n",
    "    ax.set_title('(b) Standard Trials')#, fontsize=18)\n",
    "\n",
    "    plt.gcf().set_size_inches(WIDTH, HEIGHT)\n",
    "    plt.tight_layout()"
   ]
  },
  {
   "cell_type": "markdown",
   "metadata": {},
   "source": [
    "# Model\n"
   ]
  },
  {
   "cell_type": "code",
   "execution_count": 45,
   "metadata": {
    "collapsed": false
   },
   "outputs": [],
   "source": [
    "switch['switched'] = switch.pr_chisq < .001\n",
    "switch['feedback'] = switch['feedback_cond']"
   ]
  },
  {
   "cell_type": "code",
   "execution_count": 46,
   "metadata": {
    "collapsed": false
   },
   "outputs": [
    {
     "name": "stdout",
     "output_type": "stream",
     "text": [
      "../paper/figs/3/experiment_models.pdf\n"
     ]
    },
    {
     "data": {
      "image/png": "[encoded data removed]",
      "text/plain": [
       "<matplotlib.figure.Figure at 0x11a3cc828>"
      ]
     },
     "metadata": {},
     "output_type": "display_data"
    }
   ],
   "source": [
    "@plot()\n",
    "def plot_experiment_models():\n",
    "    g = sns.factorplot('feedback', 'switched', hue='experiment',\n",
    "                       data=switch, kind='bar', ci=None, \n",
    "                       palette='magma_r', legend=False)\n",
    "    ax = g.axes.flat[0]\n",
    "    ax.set_ylim(0, 1.1)\n",
    "    ax.set_ylabel(\"Proportion identified\")\n",
    "    ax.set_xlabel(\"\")\n",
    "    ax.set_xticklabels([\"No Feedback\", \"Feedback\"])\n",
    "    ax.legend([\"Exp 1: Strong prior\", \"Exp 2A: Weak prior\", \"Exp 2B: No prior\"], loc=\"upper left\")\n",
    "    ax.axhline(0, color='k', ls='-', lw=1)\n",
    "    ax.set_title('(c) Model')#, fontsize=18)\n",
    "\n",
    "    plt.gcf().set_size_inches(WIDTH, HEIGHT)\n",
    "    plt.tight_layout()"
   ]
  },
  {
   "cell_type": "markdown",
   "metadata": {},
   "source": [
    "# Quiz"
   ]
  },
  {
   "cell_type": "code",
   "execution_count": 47,
   "metadata": {
    "collapsed": false
   },
   "outputs": [
    {
     "name": "stdout",
     "output_type": "stream",
     "text": [
      "../paper/figs/3/experiments_quiz.pdf\n"
     ]
    },
    {
     "data": {
      "image/png": "[encoded data removed]",
      "text/plain": [
       "<matplotlib.figure.Figure at 0x118224cc0>"
      ]
     },
     "metadata": {},
     "output_type": "display_data"
    }
   ],
   "source": [
    "@plot()\n",
    "def plot_experiments_quiz():\n",
    "    g = sns.factorplot('feedback', 'perfect', hue='experiment', data=qdf,\n",
    "                   kind='bar',palette='magma_r', legend=False)\n",
    "\n",
    "    ax = g.axes.flat[0]\n",
    "    ax.set_ylim(0, 1)\n",
    "    ax.set_ylabel(\"Proportion passing\")\n",
    "    ax.set_xlabel(\"\")\n",
    "    ax.set_xticklabels([\"No Feedback\", \"Feedback\"])\n",
    "    ax.axhline(0, color='k', ls='-', lw=1)\n",
    "    ax.axhline(1/6, 0.02, 0.98, c='k',  ls='--', lw=2)\n",
    "    ax.set_title('(a) Quiz')#, fontsize=18)\n",
    "\n",
    "    plt.gcf().set_size_inches(WIDTH, HEIGHT)\n",
    "    plt.tight_layout()"
   ]
  }
 ],
 "metadata": {
  "anaconda-cloud": {},
  "kernelspec": {
   "display_name": "Python [default]",
   "language": "python",
   "name": "python3"
  },
  "language_info": {
   "codemirror_mode": {
    "name": "ipython",
    "version": 3
   },
   "file_extension": ".py",
   "mimetype": "text/x-python",
   "name": "python",
   "nbconvert_exporter": "python",
   "pygments_lexer": "ipython3",
   "version": "3.5.2"
  }
 },
 "nbformat": 4,
 "nbformat_minor": 2
}
