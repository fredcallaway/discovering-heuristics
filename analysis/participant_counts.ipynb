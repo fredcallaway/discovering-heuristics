{
 "cells": [
  {
   "cell_type": "code",
   "execution_count": 13,
   "metadata": {
    "collapsed": false
   },
   "outputs": [],
   "source": [
    "%%capture\n",
    "\n",
    "CODE_VERSION = 'Y'\n",
    "%run preprocess.ipynb\n",
    "pdf3 = raw_pdf\n",
    "caught_pids3 = caught_pids\n",
    "misformat_pids3 = misformat_pids\n",
    "data3 = data\n",
    "\n",
    "CODE_VERSION = 'Z'\n",
    "%run preprocess.ipynb\n",
    "pdf2 = raw_pdf\n",
    "caught_pids2 = caught_pids\n",
    "misformat_pids2 = misformat_pids\n",
    "data2 = data"
   ]
  },
  {
   "cell_type": "code",
   "execution_count": 14,
   "metadata": {
    "collapsed": true
   },
   "outputs": [],
   "source": [
    "exp = 23"
   ]
  },
  {
   "cell_type": "code",
   "execution_count": 15,
   "metadata": {
    "collapsed": false
   },
   "outputs": [
    {
     "name": "stdout",
     "output_type": "stream",
     "text": [
      "EXP23_N_PARTICIPANT = 226\n",
      "EXP23_N_CAUGHT = 10\n",
      "EXP23_N_FORMAT = 10\n",
      "EXP23_N_REMAIN = 204\n"
     ]
    }
   ],
   "source": [
    "writevar('N_PARTICIPANT', len(pdf2) + len(pdf3))\n",
    "writevar('N_CAUGHT', len(caught_pids2) + len(caught_pids3))\n",
    "writevar('N_FORMAT', len(misformat_pids2) + len(caught_pids3))\n",
    "writevar('N_REMAIN', len(data2['participants']) + len(data3['participants']))"
   ]
  },
  {
   "cell_type": "code",
   "execution_count": 16,
   "metadata": {
    "collapsed": true
   },
   "outputs": [],
   "source": [
    "savevars()"
   ]
  }
 ],
 "metadata": {
  "anaconda-cloud": {},
  "kernelspec": {
   "display_name": "Python [default]",
   "language": "python",
   "name": "python3"
  },
  "language_info": {
   "codemirror_mode": {
    "name": "ipython",
    "version": 3
   },
   "file_extension": ".py",
   "mimetype": "text/x-python",
   "name": "python",
   "nbconvert_exporter": "python",
   "pygments_lexer": "ipython3",
   "version": "3.5.2"
  }
 },
 "nbformat": 4,
 "nbformat_minor": 2
}
