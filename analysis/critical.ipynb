{
 "cells": [
  {
   "cell_type": "code",
   "execution_count": 33,
   "metadata": {
    "collapsed": false,
    "init_cell": true
   },
   "outputs": [
    {
     "name": "stdout",
     "output_type": "stream",
     "text": [
      "The autoreload extension is already loaded. To reload it, use:\n",
      "  %reload_ext autoreload\n"
     ]
    }
   ],
   "source": [
    "%matplotlib inline\n",
    "%load_ext autoreload\n",
    "%autoreload\n",
    "\n",
    "import matplotlib.pyplot as plt\n",
    "import numpy as np\n",
    "import pandas as pd\n",
    "import seaborn as sns\n",
    "from collections import Counter, defaultdict, deque\n",
    "import itertools as it\n",
    "from utils import Labeler\n",
    "import statsmodels\n",
    "from scipy import stats"
   ]
  },
  {
   "cell_type": "code",
   "execution_count": 34,
   "metadata": {
    "collapsed": false,
    "init_cell": true
   },
   "outputs": [
    {
     "name": "stdout",
     "output_type": "stream",
     "text": [
      "EXP2_N_PARTICIPANT = 112\n",
      "EXP2_N_UNFINISHED = 9\n",
      "EXP2_N_CAUGHT = 6\n",
      "EXP2_N_REMAIN = 97\n"
     ]
    },
    {
     "name": "stderr",
     "output_type": "stream",
     "text": [
      "preprocess.ipynb:45: DeprecationWarning: \n",
      ".ix is deprecated. Please use\n",
      ".loc for label based indexing or\n",
      ".iloc for positional indexing\n",
      "\n",
      "See the documentation here:\n",
      "http://pandas.pydata.org/pandas-docs/stable/indexing.html#deprecate_ix\n",
      "  \"outputs\": [],\n"
     ]
    },
    {
     "name": "stdout",
     "output_type": "stream",
     "text": [
      "EXP2_N_RT_CLIP = 100\n",
      "EXP2_THRESHOLD_RT_CLIP = 9.031841356928114\n",
      "The rpy2.ipython extension is already loaded. To reload it, use:\n",
      "  %reload_ext rpy2.ipython\n"
     ]
    }
   ],
   "source": [
    "%run preprocess.ipynb"
   ]
  },
  {
   "cell_type": "markdown",
   "metadata": {},
   "source": [
    "# Stats"
   ]
  },
  {
   "cell_type": "code",
   "execution_count": 28,
   "metadata": {
    "collapsed": false
   },
   "outputs": [],
   "source": [
    "rdf = prep_for_r(cdf)"
   ]
  },
  {
   "cell_type": "code",
   "execution_count": 29,
   "metadata": {
    "collapsed": false
   },
   "outputs": [
    {
     "data": {
      "text/plain": [
       "Analysis of Deviance Table (Type III tests)\n",
       "\n",
       "Response: correct\n",
       "                  LR Chisq Df Pr(>Chisq)\n",
       "feedback           0.55622  1     0.4558\n",
       "good_cue           1.14266  1     0.2851\n",
       "feedback:good_cue  0.07833  1     0.7796\n"
      ]
     },
     "metadata": {},
     "output_type": "display_data"
    }
   ],
   "source": [
    "%%R -i rdf -o aov\n",
    "df = rdf\n",
    "df$feedback <- as.factor(df$feedback)\n",
    "df$good_cue <- as.factor(df$good_cue)\n",
    "full = glm(correct ~ feedback * good_cue, data=df, family='binomial')\n",
    "aov = Anova(full, type=3)\n",
    "aov"
   ]
  },
  {
   "cell_type": "code",
   "execution_count": 30,
   "metadata": {
    "collapsed": false
   },
   "outputs": [
    {
     "name": "stdout",
     "output_type": "stream",
     "text": [
      "EXP2_CRIT_ANOVA_FEEDBACK = $\\chi^2(1)=0.556,\\ p = 0.46$\n"
     ]
    },
    {
     "data": {
      "text/latex": [
       "$\\chi^2(1)=0.556,\\ p = 0.46$"
      ],
      "text/plain": [
       "<IPython.core.display.Latex object>"
      ]
     },
     "metadata": {},
     "output_type": "display_data"
    },
    {
     "name": "stdout",
     "output_type": "stream",
     "text": [
      "EXP2_CRIT_ANOVA_GOOD_CUE = $\\chi^2(1)=1.143,\\ p = 0.29$\n"
     ]
    },
    {
     "data": {
      "text/latex": [
       "$\\chi^2(1)=1.143,\\ p = 0.29$"
      ],
      "text/plain": [
       "<IPython.core.display.Latex object>"
      ]
     },
     "metadata": {},
     "output_type": "display_data"
    },
    {
     "name": "stdout",
     "output_type": "stream",
     "text": [
      "EXP2_CRIT_ANOVA_FEEDBACK_GOOD_CUE = $\\chi^2(1)=0.078,\\ p = 0.78$\n"
     ]
    },
    {
     "data": {
      "text/latex": [
       "$\\chi^2(1)=0.078,\\ p = 0.78$"
      ],
      "text/plain": [
       "<IPython.core.display.Latex object>"
      ]
     },
     "metadata": {},
     "output_type": "display_data"
    }
   ],
   "source": [
    "aov_tbl = get_rtable(aov, p_col='pr_chisq')\n",
    "tex_chi2 = r\"$\\chi^2({df:.0f})={lr_chisq:.3f},\\ {signif}$\"\n",
    "name = 'CRIT_ANOVA_{idx}'\n",
    "save_analysis(aov_tbl, name, tex_chi2, display_tex=True)"
   ]
  },
  {
   "cell_type": "code",
   "execution_count": 14,
   "metadata": {
    "collapsed": false
   },
   "outputs": [
    {
     "data": {
      "text/plain": [
       " feedback contrast  estimate        SE df z.ratio p.value\n",
       " 0        0 - 1    -0.148027 0.2057516 NA  -0.719  0.7211\n",
       " 1        0 - 1    -0.391305 0.2036124 NA  -1.922  0.1063\n",
       "\n",
       "Results are given on the log odds ratio (not the response) scale. \n",
       "P value adjustment: mvt method for 2 tests \n"
      ]
     },
     "metadata": {},
     "output_type": "display_data"
    }
   ],
   "source": [
    "%%R -o comps\n",
    "\n",
    "#gc <- pairs(lsmeans(full, ~ good_cue))\n",
    "#f <- pairs(lsmeans(full, ~ feedback))\n",
    "#results = summary(rbind(gc, f))\n",
    "fgc <- pairs(lsmeans(full, ~ good_cue | feedback))\n",
    "comps = summary(rbind(fgc))\n",
    "comps"
   ]
  },
  {
   "cell_type": "code",
   "execution_count": 15,
   "metadata": {
    "collapsed": false
   },
   "outputs": [
    {
     "name": "stdout",
     "output_type": "stream",
     "text": [
      "EXP3_CRIT_NOFB_ZTEST = $\\mathrm{LLR} = -0.15 \\pm 0.21,\\ z=-0.72,\\ p = 0.72$\n",
      "EXP3_CRIT_FB_ZTEST = $\\mathrm{LLR} = -0.39 \\pm 0.20,\\ z=-1.92,\\ p = 0.11$\n"
     ]
    }
   ],
   "source": [
    "comps_tbl = get_rtable(comps, p_col='p_value')\n",
    "comps_tbl.feedback = comps_tbl.feedback.replace({'0': 'nofb', '1': 'fb'})\n",
    "tex_ztest = r\"$\\mathrm{{LLR}} = {estimate:.2f} \\pm {se:.2f},\\ z={z_ratio:.2f},\\ {signif}$\"\n",
    "name = 'CRIT_{feedback}_ZTEST'\n",
    "save_analysis(comps_tbl, name, tex_ztest, display_tex=False)\n",
    "savevars()"
   ]
  },
  {
   "cell_type": "markdown",
   "metadata": {},
   "source": [
    "## Interaction with cue quiz\n"
   ]
  },
  {
   "cell_type": "code",
   "execution_count": 16,
   "metadata": {
    "collapsed": true
   },
   "outputs": [],
   "source": [
    "perfect = list(final_qdf.query('perfect').pid)\n",
    "pcdf = cdf.query('pid == @perfect')\n",
    "rdf = prep_for_r(pcdf)"
   ]
  },
  {
   "cell_type": "code",
   "execution_count": 17,
   "metadata": {
    "collapsed": false
   },
   "outputs": [
    {
     "data": {
      "text/plain": [
       "Analysis of Deviance Table (Type III tests)\n",
       "\n",
       "Response: correct\n",
       "                  LR Chisq Df Pr(>Chisq)\n",
       "feedback           0.29843  1     0.5849\n",
       "good_cue           0.45761  1     0.4987\n",
       "feedback:good_cue  1.14856  1     0.2839\n"
      ]
     },
     "metadata": {},
     "output_type": "display_data"
    }
   ],
   "source": [
    "%%R -i rdf -o aov\n",
    "df = rdf\n",
    "df$feedback <- as.factor(df$feedback)\n",
    "# df$pass_quiz <- as.factor(df$pass_quiz)\n",
    "df$good_cue <- as.factor(df$good_cue)\n",
    "full = glm(correct ~ feedback * good_cue, data=df, family='binomial')\n",
    "aov = Anova(full, type=3)\n",
    "aov"
   ]
  },
  {
   "cell_type": "code",
   "execution_count": 18,
   "metadata": {
    "collapsed": false
   },
   "outputs": [
    {
     "name": "stdout",
     "output_type": "stream",
     "text": [
      "EXP3_CRIT_PASS_ANOVA_FEEDBACK = $\\chi^2(1)=0.298,\\ p = 0.58$\n",
      "EXP3_CRIT_PASS_ANOVA_GOOD_CUE = $\\chi^2(1)=0.458,\\ p = 0.50$\n",
      "EXP3_CRIT_PASS_ANOVA_FEEDBACK_GOOD_CUE = $\\chi^2(1)=1.149,\\ p = 0.28$\n"
     ]
    }
   ],
   "source": [
    "aov_tbl = get_rtable(aov, p_col='pr_chisq')\n",
    "tex_chi2 = r\"$\\chi^2({df:.0f})={lr_chisq:.3f},\\ {signif}$\"\n",
    "name = 'CRIT_PASS_ANOVA_{idx}'\n",
    "save_analysis(aov_tbl, name, tex_chi2, display_tex=False)"
   ]
  },
  {
   "cell_type": "code",
   "execution_count": 19,
   "metadata": {
    "collapsed": false
   },
   "outputs": [
    {
     "data": {
      "text/plain": [
       " feedback contrast   estimate        SE df z.ratio p.value\n",
       " 0        0 - 1    -0.3053816 0.4521253 NA  -0.675  0.7494\n",
       " 1        0 - 1    -0.9234082 0.3576638 NA  -2.582  0.0196\n",
       "\n",
       "Results are given on the log odds ratio (not the response) scale. \n",
       "P value adjustment: mvt method for 2 tests \n"
      ]
     },
     "metadata": {},
     "output_type": "display_data"
    }
   ],
   "source": [
    "%%R -o comps\n",
    "\n",
    "#gc <- pairs(lsmeans(full, ~ good_cue))\n",
    "#f <- pairs(lsmeans(full, ~ feedback))\n",
    "#results = summary(rbind(gc, f))\n",
    "fgc <- pairs(lsmeans(full, ~ good_cue | feedback))\n",
    "comps = summary(rbind(fgc))\n",
    "comps"
   ]
  },
  {
   "cell_type": "code",
   "execution_count": 20,
   "metadata": {
    "collapsed": false
   },
   "outputs": [
    {
     "name": "stdout",
     "output_type": "stream",
     "text": [
      "EXP3_CRIT_PASS_NOFB_ZTEST = $\\mathrm{LLR} = -0.31 \\pm 0.45,\\ z=-0.68,\\ p = 0.75$\n",
      "EXP3_CRIT_PASS_FB_ZTEST = $\\mathrm{LLR} = -0.92 \\pm 0.36,\\ z=-2.58,\\ p < 0.05$\n"
     ]
    }
   ],
   "source": [
    "comps_tbl = get_rtable(comps, p_col='p_value')\n",
    "comps_tbl.feedback = comps_tbl.feedback.replace({'0': 'nofb', '1': 'fb'})\n",
    "tex_ztest = r\"$\\mathrm{{LLR}} = {estimate:.2f} \\pm {se:.2f},\\ z={z_ratio:.2f},\\ {signif}$\"\n",
    "name = 'CRIT_PASS_{feedback}_ZTEST'\n",
    "save_analysis(comps_tbl, name, tex_ztest, display_tex=False)\n",
    "savevars()"
   ]
  },
  {
   "cell_type": "markdown",
   "metadata": {},
   "source": [
    "# Plot"
   ]
  },
  {
   "cell_type": "code",
   "execution_count": 22,
   "metadata": {
    "collapsed": false
   },
   "outputs": [
    {
     "name": "stdout",
     "output_type": "stream",
     "text": [
      "../paper/figs/3/critical_correct.pdf\n"
     ]
    },
    {
     "data": {
      "image/png": "[encoded data removed]",
      "text/plain": [
       "<matplotlib.figure.Figure at 0x10a737cc0>"
      ]
     },
     "metadata": {},
     "output_type": "display_data"
    }
   ],
   "source": [
    "@plot(val='correct')\n",
    "def plot_critical(df=cdf, val=None):\n",
    "    df['feedback'] = df.feedback_cond\n",
    "    # df['cue type'] = df.good_cue.apply(lambda x: 'accurate' if x else 'bogus')\n",
    "    g = sns.factorplot('feedback', val, data=df, kind='bar',\n",
    "                       hue='cue', palette=C_MAP, legend=False)\n",
    "    feedback_labels(g)\n",
    "    plt.gca().set_xlabel('')\n",
    "    plt.gca().set_xticklabels(['No Feedback', 'Feedback'])\n",
    "    plt.ylim(0, 1.05)\n",
    "    plt.ylabel('Proportion Correct')\n",
    "    plt.legend(loc=\"upper left\", bbox_to_anchor=[0, 1.05])\n",
    "    \n",
    "    plt.gcf().set_size_inches(5, 3)\n",
    "    plt.suptitle('(a)', y=1)\n",
    "    plt.tight_layout()"
   ]
  }
 ],
 "metadata": {
  "anaconda-cloud": {},
  "celltoolbar": "Initialisation Cell",
  "hide_input": false,
  "kernelspec": {
   "display_name": "Python [default]",
   "language": "python",
   "name": "python3"
  },
  "language_info": {
   "codemirror_mode": {
    "name": "ipython",
    "version": 3
   },
   "file_extension": ".py",
   "mimetype": "text/x-python",
   "name": "python",
   "nbconvert_exporter": "python",
   "pygments_lexer": "ipython3",
   "version": "3.5.2"
  },
  "nav_menu": {},
  "notify_time": "10",
  "toc": {
   "nav_menu": {
    "height": "102px",
    "width": "252px"
   },
   "navigate_menu": true,
   "number_sections": true,
   "sideBar": true,
   "threshold": 6,
   "toc_cell": false,
   "toc_section_display": "block",
   "toc_window_display": false
  }
 },
 "nbformat": 4,
 "nbformat_minor": 0
}
