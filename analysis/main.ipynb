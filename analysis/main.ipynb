{
 "cells": [
  {
   "cell_type": "code",
   "execution_count": 10,
   "metadata": {
    "collapsed": false
   },
   "outputs": [],
   "source": [
    "%%capture\n",
    "EXPERIMENT = 1\n",
    "%run preprocess.ipynb\n",
    "%run difficulty.ipynb\n",
    "%run critical.ipynb\n",
    "%run cue_quiz.ipynb\n",
    "%run optimize_model.ipynb"
   ]
  },
  {
   "cell_type": "code",
   "execution_count": 11,
   "metadata": {
    "collapsed": false
   },
   "outputs": [],
   "source": [
    "%%capture\n",
    "EXPERIMENT = 2\n",
    "%run preprocess.ipynb\n",
    "%run difficulty.ipynb\n",
    "%run critical.ipynb\n",
    "%run cue_quiz.ipynb"
   ]
  },
  {
   "cell_type": "code",
   "execution_count": 12,
   "metadata": {
    "collapsed": false
   },
   "outputs": [],
   "source": [
    "%%capture\n",
    "EXPERIMENT = 3\n",
    "%run preprocess.ipynb\n",
    "%run difficulty.ipynb\n",
    "%run critical.ipynb\n",
    "%run cue_quiz.ipynb"
   ]
  },
  {
   "cell_type": "code",
   "execution_count": 9,
   "metadata": {
    "collapsed": false
   },
   "outputs": [],
   "source": [
    "%%capture\n",
    "%run compare_experiments.ipynb"
   ]
  }
 ],
 "metadata": {
  "anaconda-cloud": {},
  "kernelspec": {
   "display_name": "Python [default]",
   "language": "python",
   "name": "python3"
  },
  "language_info": {
   "codemirror_mode": {
    "name": "ipython",
    "version": 3
   },
   "file_extension": ".py",
   "mimetype": "text/x-python",
   "name": "python",
   "nbconvert_exporter": "python",
   "pygments_lexer": "ipython3",
   "version": "3.5.2"
  }
 },
 "nbformat": 4,
 "nbformat_minor": 2
}
