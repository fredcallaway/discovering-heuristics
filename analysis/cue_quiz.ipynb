{
 "cells": [
  {
   "cell_type": "code",
   "execution_count": 89,
   "metadata": {
    "collapsed": false,
    "init_cell": true
   },
   "outputs": [],
   "source": [
    "%matplotlib inline\n",
    "\n",
    "import matplotlib.pyplot as plt\n",
    "import numpy as np\n",
    "import pandas as pd\n",
    "import seaborn as sns\n",
    "from collections import Counter, defaultdict, deque\n",
    "import json\n",
    "import itertools as it\n",
    "import os\n",
    "import utils\n",
    "from utils import Labeler\n",
    "import statsmodels\n",
    "from scipy import stats"
   ]
  },
  {
   "cell_type": "code",
   "execution_count": 90,
   "metadata": {
    "collapsed": false,
    "init_cell": true
   },
   "outputs": [
    {
     "name": "stdout",
     "output_type": "stream",
     "text": [
      "EXP3_N_PARTICIPANT = 112\n",
      "EXP3_N_FORMAT = 5\n",
      "EXP3_N_CAUGHT = 5\n",
      "EXP3_N_REMAIN = 102\n",
      "EXP3_N_RT_CLIP = 37\n",
      "EXP3_THRESHOLD_RT_CLIP = 12.174455924796257\n",
      "The rpy2.ipython extension is already loaded. To reload it, use:\n",
      "  %reload_ext rpy2.ipython\n"
     ]
    },
    {
     "name": "stderr",
     "output_type": "stream",
     "text": [
      "preprocess.ipynb:45: DeprecationWarning: \n",
      ".ix is deprecated. Please use\n",
      ".loc for label based indexing or\n",
      ".iloc for positional indexing\n",
      "\n",
      "See the documentation here:\n",
      "http://pandas.pydata.org/pandas-docs/stable/indexing.html#deprecate_ix\n",
      "  \"outputs\": [],\n"
     ]
    }
   ],
   "source": [
    "%run preprocess.ipynb"
   ]
  },
  {
   "cell_type": "markdown",
   "metadata": {},
   "source": [
    "# Cue quiz"
   ]
  },
  {
   "cell_type": "code",
   "execution_count": 91,
   "metadata": {
    "collapsed": false
   },
   "outputs": [],
   "source": [
    "tbl = final_qdf.groupby('feedback').perfect.value_counts().unstack().T\n",
    "tbl = tbl.rename(columns={False: 'nofb', True: 'fb'})\n"
   ]
  },
  {
   "cell_type": "code",
   "execution_count": 92,
   "metadata": {
    "collapsed": false
   },
   "outputs": [
    {
     "name": "stdout",
     "output_type": "stream",
     "text": [
      "EXP3_QUIZ_NOFB_P = 21\n",
      "EXP3_QUIZ_FB_P = 22\n"
     ]
    },
    {
     "name": "stderr",
     "output_type": "stream",
     "text": [
      "/usr/local/lib/miniconda3/lib/python3.5/site-packages/ipykernel/__main__.py:1: DeprecationWarning: \n",
      ".ix is deprecated. Please use\n",
      ".loc for label based indexing or\n",
      ".iloc for positional indexing\n",
      "\n",
      "See the documentation here:\n",
      "http://pandas.pydata.org/pandas-docs/stable/indexing.html#deprecate_ix\n",
      "  if __name__ == '__main__':\n"
     ]
    }
   ],
   "source": [
    "n_perfect = tbl.ix[True]\n",
    "counts = tbl.sum(0)\n",
    "for idx, prop in (n_perfect / counts).items():\n",
    "    writevar('QUIZ_{}_P'.format(idx.upper()),\n",
    "             '{:2.0f}'.format(prop * 100))"
   ]
  },
  {
   "cell_type": "markdown",
   "metadata": {},
   "source": [
    "## Stats"
   ]
  },
  {
   "cell_type": "code",
   "execution_count": 53,
   "metadata": {
    "collapsed": false
   },
   "outputs": [
    {
     "data": {
      "text/plain": [
       "\n",
       "\t1-sample proportions test with continuity correction\n",
       "\n",
       "data:  n_perfect[1] out of counts[1], null probability 1/6\n",
       "X-squared = 0.46538, df = 1, p-value = 0.2476\n",
       "alternative hypothesis: true p is greater than 0.1666667\n",
       "95 percent confidence interval:\n",
       " 0.1261815 1.0000000\n",
       "sample estimates:\n",
       "        p \n",
       "0.2115385 \n",
       "\n",
       "\n",
       "\t1-sample proportions test with continuity correction\n",
       "\n",
       "data:  n_perfect[2] out of counts[2], null probability 1/6\n",
       "X-squared = 0.8, df = 1, p-value = 0.1855\n",
       "alternative hypothesis: true p is greater than 0.1666667\n",
       "95 percent confidence interval:\n",
       " 0.1341913 1.0000000\n",
       "sample estimates:\n",
       "        p \n",
       "0.2244898 \n",
       "\n",
       "\n",
       "\t2-sample test for equality of proportions with continuity correction\n",
       "\n",
       "data:  n_perfect out of counts\n",
       "X-squared = 7.3575e-31, df = 1, p-value = 0.5\n",
       "alternative hypothesis: less\n",
       "95 percent confidence interval:\n",
       " -1.000000  0.135243\n",
       "sample estimates:\n",
       "   prop 1    prop 2 \n",
       "0.2115385 0.2244898 \n",
       "\n"
      ]
     },
     "metadata": {},
     "output_type": "display_data"
    }
   ],
   "source": [
    "%%R -i counts -i n_perfect -o p1 -o p2 -o p3\n",
    "p1 = prop.test(n_perfect[1], counts[1], p=1/6, alternative='greater')\n",
    "p2 = prop.test(n_perfect[2], counts[2], p=1/6, alternative='greater')\n",
    "p3 = prop.test(n_perfect, counts, alternative='less')\n",
    "print(p1)\n",
    "print(p2)\n",
    "print(p3)"
   ]
  },
  {
   "cell_type": "code",
   "execution_count": 55,
   "metadata": {
    "collapsed": false
   },
   "outputs": [
    {
     "name": "stdout",
     "output_type": "stream",
     "text": [
      "EXP2_QUIZ_CHI_FB_NOFB = $\\chi^2(1)=0.000,\\ p = 0.50$\n"
     ]
    },
    {
     "data": {
      "text/latex": [
       "$\\chi^2(1)=0.000,\\ p = 0.50$"
      ],
      "text/plain": [
       "<IPython.core.display.Latex object>"
      ]
     },
     "metadata": {},
     "output_type": "display_data"
    },
    {
     "name": "stdout",
     "output_type": "stream",
     "text": [
      "EXP2_QUIZ_CHI_NOFB_NULL = $\\chi^2(1)=0.465,\\ p = 0.25$\n"
     ]
    },
    {
     "data": {
      "text/latex": [
       "$\\chi^2(1)=0.465,\\ p = 0.25$"
      ],
      "text/plain": [
       "<IPython.core.display.Latex object>"
      ]
     },
     "metadata": {},
     "output_type": "display_data"
    },
    {
     "name": "stdout",
     "output_type": "stream",
     "text": [
      "EXP2_QUIZ_CHI_FB_NULL = $\\chi^2(1)=0.800,\\ p = 0.19$\n"
     ]
    },
    {
     "data": {
      "text/latex": [
       "$\\chi^2(1)=0.800,\\ p = 0.19$"
      ],
      "text/plain": [
       "<IPython.core.display.Latex object>"
      ]
     },
     "metadata": {},
     "output_type": "display_data"
    }
   ],
   "source": [
    "comps = {\n",
    "    'nofb_null': {k: ri2py(v) for k, v in p1.items()},\n",
    "    'fb_null': {k: ri2py(v) for k, v in p2.items()},\n",
    "    'fb_nofb': {k: ri2py(v) for k, v in p3.items()},\n",
    "}\n",
    "extract = ['estimate', 'statistic', 'p.value', 'parameter']\n",
    "tbl = pd.DataFrame(\n",
    "    {e: [vals[e] for vals in comps.values()] for e in extract},\n",
    "    index = comps.keys()\n",
    ")\n",
    "tex_chi2 = r\"$\\chi^2({parameter:.0f})={statistic:.3f},\\ {signif}$\"\n",
    "\n",
    "tbl = tbl.applymap(lambda x: x[0] if len(x) == 1 else x[1] - x[0])\n",
    "tbl = tbl.rename(columns=reformat_name)\n",
    "tbl['signif'] = tbl[reformat_name('p_value')].apply(pval)\n",
    "save_analysis(tbl, 'QUIZ_CHI_{idx}', tex_chi2)"
   ]
  }
 ],
 "metadata": {
  "anaconda-cloud": {},
  "celltoolbar": "Initialisation Cell",
  "hide_input": false,
  "kernelspec": {
   "display_name": "Python [default]",
   "language": "python",
   "name": "python3"
  },
  "language_info": {
   "codemirror_mode": {
    "name": "ipython",
    "version": 3
   },
   "file_extension": ".py",
   "mimetype": "text/x-python",
   "name": "python",
   "nbconvert_exporter": "python",
   "pygments_lexer": "ipython3",
   "version": "3.5.2"
  },
  "nav_menu": {},
  "notify_time": "10",
  "toc": {
   "nav_menu": {
    "height": "102px",
    "width": "252px"
   },
   "navigate_menu": true,
   "number_sections": true,
   "sideBar": true,
   "threshold": 6,
   "toc_cell": false,
   "toc_section_display": "block",
   "toc_window_display": false
  }
 },
 "nbformat": 4,
 "nbformat_minor": 0
}
