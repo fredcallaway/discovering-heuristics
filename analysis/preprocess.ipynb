{
 "cells": [
  {
   "cell_type": "markdown",
   "metadata": {},
   "source": [
    "# Preprocess\n",
    "\n",
    "This should really be a combination of utility libraries and scripts\n",
    "but... well at least I've learned better by now."
   ]
  },
  {
   "cell_type": "code",
   "execution_count": 5,
   "metadata": {
    "collapsed": false
   },
   "outputs": [],
   "source": [
    "import pandas as pd\n",
    "import numpy as np\n",
    "import json\n",
    "import ast\n",
    "import re\n",
    "from utils import Labeler\n",
    "import os\n",
    "import seaborn as sns\n",
    "import matplotlib.pyplot as plt"
   ]
  },
  {
   "cell_type": "markdown",
   "metadata": {},
   "source": [
    "## Saving variables"
   ]
  },
  {
   "cell_type": "code",
   "execution_count": 2,
   "metadata": {
    "collapsed": false
   },
   "outputs": [],
   "source": [
    "if 'EXPERIMENT' not in locals():\n",
    "    EXPERIMENT = 2"
   ]
  },
  {
   "cell_type": "code",
   "execution_count": 3,
   "metadata": {
    "collapsed": false
   },
   "outputs": [],
   "source": [
    "try:\n",
    "    VARIABLES = pd.Series.from_csv('variables.csv')\n",
    "except:\n",
    "    VARIABLES = pd.Series()\n",
    "\n",
    "def writevar(key, val):\n",
    "    key = 'EXP{}_{}'.format(EXPERIMENT, key)\n",
    "    VARIABLES[key] = val\n",
    "    print('{} = {}'.format(key, val))\n",
    "\n",
    "def savevars():\n",
    "    VARIABLES.to_csv('variables.csv')\n",
    "    with open('../paper/variables.sed', 'w+') as f:\n",
    "        for key, val in VARIABLES.items():\n",
    "            val = str(val).replace('\\\\', '\\\\\\\\').replace('&', '\\&')\n",
    "            f.write('s/`{}`/{}/g'.format(key, val) + '\\n')\n",
    "\n",
    "def write_lm_var(model, var, name):\n",
    "    beta = np.round(model.params[var], 2)\n",
    "    se = np.round(model.bse[var], 2)\n",
    "    p = model.pvalues[var]\n",
    "    if p <.001:\n",
    "        p_desc = 'p < 0.001'\n",
    "    elif p < .01:\n",
    "        p_desc = 'p = {}'.format(np.round(p, 3))\n",
    "    else :\n",
    "        p_desc = 'p = {}'.format(np.round(p, 3))\n",
    "\n",
    "    writevar('{}_BETA'.format(name), beta)\n",
    "    writevar('{}_SE'.format(name), se)\n",
    "    writevar('{}_P'.format(name), p)\n",
    "    \n",
    "    writevar(\n",
    "        '{}_RESULT'.format(name),\n",
    "        r'$\\\\beta = %s,\\\\ \\\\text{SE} = %s,\\\\ %s$' % (beta, se, p_desc)\n",
    "    )"
   ]
  },
  {
   "cell_type": "markdown",
   "metadata": {},
   "source": [
    "## Load Data"
   ]
  },
  {
   "cell_type": "code",
   "execution_count": 4,
   "metadata": {
    "collapsed": false
   },
   "outputs": [
    {
     "name": "stdout",
     "output_type": "stream",
     "text": [
      "EXP1_N_PARTICIPANT = 119\n",
      "EXP1_N_UNFINISHED = 9\n",
      "EXP1_N_CAUGHT = 8\n",
      "EXP1_N_REMAIN = 102\n"
     ]
    },
    {
     "data": {
      "text/plain": [
       "set()"
      ]
     },
     "execution_count": 4,
     "metadata": {},
     "output_type": "execute_result"
    }
   ],
   "source": [
    "from glob import glob\n",
    "def get_data(): \n",
    "    data = {}\n",
    "    for file in glob('../data/{}/*.csv'.format(EXPERIMENT)):\n",
    "        name = os.path.basename(file)[:-4]\n",
    "        df = pd.read_csv(file)\n",
    "        data[name] = df\n",
    "    return data\n",
    "\n",
    "def misformatted(df):\n",
    "    def check(c):\n",
    "        return len(c.dropna()) !=138\n",
    "    \n",
    "    idx =  df.groupby('pid').correct.apply(check).as_matrix()\n",
    "    return set(df.pid.unique()[idx])\n",
    "\n",
    "def failed_catch(df, max_fails=1):\n",
    "    fails = (df.query(\"kind == 'control'\")\n",
    "             .groupby('pid')\n",
    "             .correct.agg(lambda c: len(c[c== False]))\n",
    "    )\n",
    "    failed_pids = fails[fails > max_fails].index\n",
    "    return set(failed_pids)\n",
    "\n",
    "\n",
    "data = get_data()\n",
    "caught_pid = failed_catch(data['ball'])\n",
    "\n",
    "started_pid = list(data['ball'].pid.unique())\n",
    "finished_pid = list(data['survey-text'].pid.unique())\n",
    "unfinished_pid = set(started_pid) - set(finished_pid)\n",
    "data['participants'] = data['participants'].query('pid == @started_pid')\n",
    "writevar('N_PARTICIPANT', len(data['participants']))\n",
    "writevar('N_UNFINISHED', len(unfinished_pid))\n",
    "writevar('N_CAUGHT', len(caught_pid - unfinished_pid))\n",
    "\n",
    "drop_pid = unfinished_pid | caught_pid\n",
    "# pidx is an unbroken index for participants in the analysis.\n",
    "x_labeler = Labeler()\n",
    "for k, df in data.items():\n",
    "    df = df.set_index('pid').drop(drop_pid, errors='ignore').reset_index()\n",
    "    df['pidx'] = df.pid.apply(x_labeler)\n",
    "    data[k] = df\n",
    "writevar('N_REMAIN', len(data['participants']))\n",
    "\n",
    "misformat_pids = misformatted(data['ball'])\n",
    "assert not misformat_pids - drop_pid"
   ]
  },
  {
   "cell_type": "code",
   "execution_count": null,
   "metadata": {
    "collapsed": false
   },
   "outputs": [],
   "source": []
  },
  {
   "cell_type": "markdown",
   "metadata": {},
   "source": [
    "## Reformat data"
   ]
  },
  {
   "cell_type": "code",
   "execution_count": 63,
   "metadata": {
    "collapsed": false
   },
   "outputs": [
    {
     "name": "stderr",
     "output_type": "stream",
     "text": [
      "/usr/local/lib/miniconda3/lib/python3.5/site-packages/ipykernel/__main__.py:45: DeprecationWarning: \n",
      ".ix is deprecated. Please use\n",
      ".loc for label based indexing or\n",
      ".iloc for positional indexing\n",
      "\n",
      "See the documentation here:\n",
      "http://pandas.pydata.org/pandas-docs/stable/indexing.html#deprecate_ix\n"
     ]
    }
   ],
   "source": [
    "def fix_conditions(df):\n",
    "    df = df.rename(columns={'show_feedback': 'feedback'})\n",
    "    def get_cue(r): \n",
    "        return 'color' if r.color_cue else 'wall' if r.wall_cue else 'none'\n",
    "    df['cue_type'] = df.apply(get_cue, axis=1).astype('category',\n",
    "                                                 categories=['none', 'color']\n",
    "                                                )\n",
    "    return df\n",
    "\n",
    "bdf = data['ball'].copy()\n",
    "pdf = data['participants'].copy()\n",
    "\n",
    "pdf = pdf.set_index('pidx')\n",
    "bdf = bdf.set_index('pidx')\n",
    "pdf['pidx'] = pd.Categorical(pdf.index)\n",
    "bdf['pidx'] = pd.Categorical(bdf.index)\n",
    "\n",
    "bdf.correct = bdf.correct.astype(int)\n",
    "bdf.good_cue = bdf.good_cue.astype(bool)\n",
    "bdf.rt = bdf.rt / 1000\n",
    "bdf['stim'] = (bdf.hole.astype(str) + bdf.goes_in.astype(str)\n",
    "              ).apply(Labeler()).astype('category')\n",
    "\n",
    "def cue_on(r):\n",
    "    present = r.get('cue_present', True)\n",
    "    return (r.color_cue or r.wall_cue) and present\n",
    "\n",
    "bdf['cuex'] = bdf.apply(cue_on, axis=1).astype(bool)\n",
    "# bdf['cue'] = bdf.cuex.apply(lambda x: 'present' if x else 'absent') \\\n",
    "#     .astype('category', categories=['absent', 'present'])\n",
    "cue_names = {-1: 'deceitful', 0: 'neutral', 1: 'honest'}\n",
    "bdf['cue'] = ((bdf.good_cue.astype(int) * 2 - 1) * bdf.cuex).apply(cue_names.get)\n",
    "\n",
    "try:\n",
    "    bdf['trialx'] = bdf['trials_completed']\n",
    "except:\n",
    "    pass\n",
    "    \n",
    "bdf = fix_conditions(bdf)\n",
    "pdf = fix_conditions(pdf)\n",
    "try:\n",
    "    bdf['block'] = bdf['block_idx'].astype(int)\n",
    "except:\n",
    "    pass\n",
    "bdf['feedback_cond'] = bdf.pidx.apply(lambda p: pdf.ix[p].feedback)"
   ]
  },
  {
   "cell_type": "code",
   "execution_count": 6,
   "metadata": {
    "collapsed": false
   },
   "outputs": [],
   "source": [
    "drop = ['draw_trajectory', 'block_idx', 'score', 'trials_completed']\n",
    "bdf = bdf.drop(drop, axis=1, errors='ignore')"
   ]
  },
  {
   "cell_type": "markdown",
   "metadata": {},
   "source": [
    "## Create Dataframes"
   ]
  },
  {
   "cell_type": "code",
   "execution_count": 7,
   "metadata": {
    "collapsed": false
   },
   "outputs": [],
   "source": [
    "def query_subset(df, col, subset):\n",
    "    idx = df[col].apply(lambda x: x in subset)\n",
    "    return df[idx].copy()"
   ]
  },
  {
   "cell_type": "code",
   "execution_count": 8,
   "metadata": {
    "collapsed": false
   },
   "outputs": [],
   "source": [
    "# Analysis trials (not instruction or control)\n",
    "adf = query_subset(bdf, 'kind', {'standard', 'easy', 'hard', 'critical'})\n",
    "adf['logrt'] = np.log(adf.rt)\n",
    "adf['responsex'] = response = adf.response.apply({'yes': 1, 'no': 0}.get).as_matrix()\n",
    "kind_map = {'easy': 0, 'standard': 1, 'hard':2, 'critical':2}\n",
    "adf['kindx'] = adf.kind.apply(kind_map.get).as_matrix()"
   ]
  },
  {
   "cell_type": "code",
   "execution_count": 9,
   "metadata": {
    "collapsed": false
   },
   "outputs": [
    {
     "name": "stdout",
     "output_type": "stream",
     "text": [
      "EXP3_N_RT_CLIP = 100\n",
      "EXP3_THRESHOLD_RT_CLIP = 9.031841356928114\n"
     ]
    }
   ],
   "source": [
    "# Normal trials (not critical)\n",
    "ndf = query_subset(adf, 'kind', {'easy', 'standard', 'hard'})\n",
    "\n",
    "# Clip extreme (> 3 sd) reaction times.\n",
    "threshold = np.mean(ndf.rt) + 3 * np.std(ndf.rt)\n",
    "n_clipped = (ndf.rt > threshold).sum()\n",
    "ndf.rt = ndf.rt.clip_upper(threshold)\n",
    "ndf['difficulty'] = ndf['kind'].str.replace('standard', 'medium').astype('category',\n",
    "    categories=['easy', 'medium', 'hard'])\n",
    "writevar('N_RT_CLIP', n_clipped)\n",
    "writevar('THRESHOLD_RT_CLIP', threshold)\n",
    "# print('Dropping', sdf.rt.apply(np.isnan).sum(), 'extreme reaction times.')"
   ]
  },
  {
   "cell_type": "code",
   "execution_count": 11,
   "metadata": {
    "collapsed": true
   },
   "outputs": [],
   "source": [
    "# Critical trials.\n",
    "cdf = adf.query(\"kind == 'critical'\").copy()"
   ]
  },
  {
   "cell_type": "code",
   "execution_count": 12,
   "metadata": {
    "collapsed": false
   },
   "outputs": [],
   "source": [
    "# Add info to participant dataframe.\n",
    "pdf['rt'] = ndf.groupby('pid').rt.mean()\n",
    "pdf['correct'] = ndf.groupby('pid').correct.mean()\n",
    "pdf['total_correct'] = ndf.groupby('pid').correct.sum()"
   ]
  },
  {
   "cell_type": "code",
   "execution_count": 21,
   "metadata": {
    "collapsed": false
   },
   "outputs": [],
   "source": [
    "# Cue quiz\n",
    "def add_pdf_cols(df, cols):\n",
    "    df = df.copy()\n",
    "    for col in cols:\n",
    "        df[col] = df.pidx.apply(lambda x: pdf.ix[x][col])\n",
    "    return df\n",
    "\n",
    "def is_cue_survey(x):\n",
    "    return x.startswith('[\"Which player is') or x.startswith('[\"The ball is')\n",
    "\n",
    "qdf = data['survey-multi-choice'].dropna(axis=1).copy()\n",
    "qdf.correct = qdf.correct.apply(ast.literal_eval)\n",
    "qdf = qdf[qdf.questions.apply(is_cue_survey)].reset_index()\n",
    "qdf['perfect'] = qdf.correct.apply(lambda x: sum(x[:2]) == 2)\n",
    "qdf = add_pdf_cols(qdf, ['feedback']).reset_index()\n",
    "if EXPERIMENT == 1:\n",
    "    qdf['block'] = (qdf.index % 10) + 1\n",
    "    final_qdf = qdf[qdf.block == qdf.block.max()]\n",
    "else:\n",
    "    final_qdf = qdf"
   ]
  },
  {
   "cell_type": "markdown",
   "metadata": {},
   "source": [
    "## Plotting"
   ]
  },
  {
   "cell_type": "code",
   "execution_count": 22,
   "metadata": {
    "collapsed": true
   },
   "outputs": [],
   "source": [
    "def jitter(x, amt=.01):\n",
    "    return x + np.random.random(x.shape) * amt"
   ]
  },
  {
   "cell_type": "code",
   "execution_count": 23,
   "metadata": {
    "collapsed": false
   },
   "outputs": [],
   "source": [
    "sns.set_context('notebook', font_scale=1.3)\n",
    "sns.set_style('white')\n",
    "sns.set_palette('deep', color_codes=True)\n",
    "COLOR = sns.color_palette('deep')\n",
    "CUE_COLOR = [(0.7, 0.7, 0.7), *COLOR]\n",
    "C_MAP = {\n",
    "    'neutral': (0.7, 0.7, 0.7),\n",
    "    'honest': COLOR[0],\n",
    "    'deceitful': sns.color_palette('Paired')[4],\n",
    "}\n",
    "PK = dict(markers='.', palette=C_MAP, dodge=True)"
   ]
  },
  {
   "cell_type": "code",
   "execution_count": 24,
   "metadata": {
    "collapsed": false
   },
   "outputs": [],
   "source": [
    "# fig_dir = os.path.join('figs', CODE_VERSION)\n",
    "fig_dir = os.path.join('../paper/figs', str(EXPERIMENT))\n",
    "os.makedirs(fig_dir, exist_ok=True)\n",
    "\n",
    "def join(seq):\n",
    "    return '_' + '_'.join(map(str, seq))\n",
    "\n",
    "def savefig(name):\n",
    "    name = name.lower()\n",
    "    path = os.path.join(fig_dir, name + '.pdf')\n",
    "    print(path)\n",
    "    plt.savefig(path)\n",
    "    \n",
    "def plot(**kwargs1):\n",
    "    \"\"\"Decorator that calls a plotting function and saves the result.\"\"\"\n",
    "    def decorator(func):        \n",
    "        def wrapped(*args, **kwargs):\n",
    "            kwargs.update(kwargs1)\n",
    "            params = (v for v in kwargs1.values() if v is not None)\n",
    "            name = func.__name__ + join(params).rstrip('_')\n",
    "            if name.startswith('plot_'):\n",
    "                name = name[len('plot_'):]\n",
    "            func(*args, **kwargs)\n",
    "            savefig(name)\n",
    "        wrapped()\n",
    "        return wrapped\n",
    "    \n",
    "    return decorator"
   ]
  },
  {
   "cell_type": "code",
   "execution_count": 25,
   "metadata": {
    "collapsed": true
   },
   "outputs": [],
   "source": [
    "def feedback_labels(g):\n",
    "    try:\n",
    "        ax1, ax2 = g.axes.ravel()\n",
    "    except ValueError:\n",
    "        pass\n",
    "    else:\n",
    "        ax1.set_title('No Feedback')\n",
    "        ax2.set_title('Feedback')"
   ]
  },
  {
   "cell_type": "markdown",
   "metadata": {},
   "source": [
    "## Stats"
   ]
  },
  {
   "cell_type": "code",
   "execution_count": 26,
   "metadata": {
    "collapsed": true
   },
   "outputs": [],
   "source": [
    "def pval(x):\n",
    "    if x < 0.001:\n",
    "        return \"p < 0.001\"\n",
    "    elif x < 0.01:\n",
    "        return \"p < 0.01\"\n",
    "    elif x < 0.05:\n",
    "        return \"p < 0.05\"\n",
    "    elif x >= 0.05:\n",
    "        return \"p = {:.2f}\".format(x)\n",
    "    else:\n",
    "        return float('nan')"
   ]
  },
  {
   "cell_type": "code",
   "execution_count": 27,
   "metadata": {
    "collapsed": false
   },
   "outputs": [],
   "source": [
    "import rpy2.robjects as ro\n",
    "from rpy2.robjects import pandas2ri\n",
    "pandas2ri.activate()\n",
    "from rpy2.robjects.conversion import ri2py\n",
    "%load_ext rpy2.ipython"
   ]
  },
  {
   "cell_type": "code",
   "execution_count": 29,
   "metadata": {
    "collapsed": false
   },
   "outputs": [
    {
     "name": "stderr",
     "output_type": "stream",
     "text": [
      "/usr/local/lib/miniconda3/lib/python3.5/site-packages/rpy2/rinterface/__init__.py:186: RRuntimeWarning: Loading required package: Matrix\n",
      "\n",
      "  warnings.warn(x, RRuntimeWarning)\n",
      "/usr/local/lib/miniconda3/lib/python3.5/site-packages/rpy2/rinterface/__init__.py:186: RRuntimeWarning: Loading required package: estimability\n",
      "\n",
      "  warnings.warn(x, RRuntimeWarning)\n",
      "/usr/local/lib/miniconda3/lib/python3.5/site-packages/rpy2/rinterface/__init__.py:186: RRuntimeWarning: Loading required package: mvtnorm\n",
      "\n",
      "  warnings.warn(x, RRuntimeWarning)\n",
      "/usr/local/lib/miniconda3/lib/python3.5/site-packages/rpy2/rinterface/__init__.py:186: RRuntimeWarning: Loading required package: survival\n",
      "\n",
      "  warnings.warn(x, RRuntimeWarning)\n",
      "/usr/local/lib/miniconda3/lib/python3.5/site-packages/rpy2/rinterface/__init__.py:186: RRuntimeWarning: Loading required package: TH.data\n",
      "\n",
      "  warnings.warn(x, RRuntimeWarning)\n",
      "/usr/local/lib/miniconda3/lib/python3.5/site-packages/rpy2/rinterface/__init__.py:186: RRuntimeWarning: Loading required package: MASS\n",
      "\n",
      "  warnings.warn(x, RRuntimeWarning)\n",
      "/usr/local/lib/miniconda3/lib/python3.5/site-packages/rpy2/rinterface/__init__.py:186: RRuntimeWarning: \n",
      "Attaching package: ‘TH.data’\n",
      "\n",
      "\n",
      "  warnings.warn(x, RRuntimeWarning)\n",
      "/usr/local/lib/miniconda3/lib/python3.5/site-packages/rpy2/rinterface/__init__.py:186: RRuntimeWarning: The following object is masked from ‘package:MASS’:\n",
      "\n",
      "    geyser\n",
      "\n",
      "\n",
      "  warnings.warn(x, RRuntimeWarning)\n"
     ]
    }
   ],
   "source": [
    "%%R\n",
    "\n",
    "library('pwr')\n",
    "library('lme4')\n",
    "library('car')\n",
    "library('lsmeans')\n",
    "library('multcomp')"
   ]
  },
  {
   "cell_type": "code",
   "execution_count": 30,
   "metadata": {
    "collapsed": true
   },
   "outputs": [],
   "source": [
    "def prep_for_r(df):\n",
    "    df = df.copy()\n",
    "    df.feedback = df.feedback.astype(int)\n",
    "    df.cue = df.cuex.astype(int)\n",
    "    df.good_cue = df.good_cue.astype(int)\n",
    "    df.feedback = df.feedback_cond.astype(int)\n",
    "    df.stim = df.stim.astype(str)\n",
    "    if 'pidx' in df:\n",
    "        df['pid'] = df.pidx.astype(str)\n",
    "        del df['pidx']\n",
    "    return df"
   ]
  },
  {
   "cell_type": "code",
   "execution_count": 31,
   "metadata": {
    "collapsed": true
   },
   "outputs": [],
   "source": [
    "def to_snake_case(name):\n",
    "    name = re.sub('(.)([A-Z][a-z]+)', r'\\1_\\2', name)\n",
    "    name = re.sub(r'[.:\\/]', '_', name)\n",
    "    return re.sub('([a-z0-9])([A-Z])', r'\\1_\\2', name).lower()\n",
    "\n",
    "def reformat_name(name):\n",
    "    return re.sub('\\W', '', to_snake_case(name))"
   ]
  },
  {
   "cell_type": "code",
   "execution_count": 33,
   "metadata": {
    "collapsed": false
   },
   "outputs": [],
   "source": [
    "def get_rtable(results, p_col=None):\n",
    "    tbl = ri2py(results)\n",
    "    tbl = tbl.rename(columns=reformat_name)\n",
    "    if p_col:\n",
    "        tbl['signif'] = tbl[reformat_name(p_col)].apply(pval)\n",
    "    return tbl\n",
    "    "
   ]
  },
  {
   "cell_type": "code",
   "execution_count": 34,
   "metadata": {
    "collapsed": true
   },
   "outputs": [],
   "source": [
    "from IPython.display import display, Latex\n",
    "\n",
    "def save_analysis(table, name, tex, display_tex=True):\n",
    "    for idx, row in table.iterrows():\n",
    "        row['idx'] = idx\n",
    "        n = name(row) if callable(name) else name\n",
    "        n = reformat_name(n.format_map(row)).upper()\n",
    "        \n",
    "        t = tex(row) if callable(tex) else tex\n",
    "        t = t.format_map(row)\n",
    "        \n",
    "        writevar(n, t)\n",
    "        if display_tex:\n",
    "            display(Latex(t))\n",
    "    savevars()"
   ]
  },
  {
   "cell_type": "code",
   "execution_count": 35,
   "metadata": {
    "collapsed": true
   },
   "outputs": [],
   "source": [
    "def signif_stars(g, comps_tbl):\n",
    "    def star(ax, x, p):\n",
    "        n_star = 3 if p < .001 else 2 if p < .01 else 1 if p < .05 else 0\n",
    "        if n_star:\n",
    "            g.axes.flat[ax].text(x - .04 * n_star, .9, '*' * n_star, fontsize=20)\n",
    "    \n",
    "    for i, row in comps_tbl.ix[:6].iterrows():\n",
    "        i -= 1\n",
    "        if '<' in row.signif:\n",
    "            star(i // 3, i % 3, row.p_value)"
   ]
  }
 ],
 "metadata": {
  "anaconda-cloud": {},
  "celltoolbar": "Initialisation Cell",
  "hide_input": false,
  "kernelspec": {
   "display_name": "Python [default]",
   "language": "python",
   "name": "python3"
  },
  "language_info": {
   "codemirror_mode": {
    "name": "ipython",
    "version": 3
   },
   "file_extension": ".py",
   "mimetype": "text/x-python",
   "name": "python",
   "nbconvert_exporter": "python",
   "pygments_lexer": "ipython3",
   "version": "3.5.2"
  },
  "nav_menu": {},
  "notify_time": "10",
  "toc": {
   "nav_menu": {
    "height": "102px",
    "width": "252px"
   },
   "navigate_menu": true,
   "number_sections": true,
   "sideBar": true,
   "threshold": 6,
   "toc_cell": false,
   "toc_section_display": "block",
   "toc_window_display": false
  }
 },
 "nbformat": 4,
 "nbformat_minor": 0
}
